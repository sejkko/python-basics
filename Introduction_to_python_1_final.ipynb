{
  "nbformat": 4,
  "nbformat_minor": 0,
  "metadata": {
    "colab": {
      "name": "Introduction-to-python-1-final.ipynb",
      "provenance": []
    },
    "kernelspec": {
      "name": "python3",
      "display_name": "Python 3"
    }
  },
  "cells": [
    {
      "cell_type": "code",
      "metadata": {
        "id": "28Mx-eBjbkzU"
      },
      "source": [
        ""
      ],
      "execution_count": null,
      "outputs": []
    },
    {
      "cell_type": "markdown",
      "metadata": {
        "id": "pUX1IiJzbsOw"
      },
      "source": [
        "# Jupyter notebooks. \n",
        "\n",
        "In Jupyter notebooks we use markdown cells to add explanatory text, just like we do with any well **organised** notebook. The special thing about this kind of notebook is that we can bring in our programs, explanations, visualisations and data--keeping it all in the same place.\n",
        "\n",
        "In Data Science we often work with **pipelines** that are made up of many small code \"scripts\" made up by different functions. If we are not organised, it is very likely we will get lost in a forest of code we do not understand, and this will make it hard for you to assemble useful pipelines quickly, efficiently, and effectively.\n",
        "\n",
        "Very often, there is a need to keep the foundational theory that supports the implementation of your computer programs nearby. Markdown cells allow you write your text in sections, add font variants for bold, italic and code-text; add enumeration and, also to introuduce formulae using the $\\LaTeX$ math environment format. For example:\n",
        "\n",
        "$$\n",
        "Z = \\sqrt{\\frac{X}{Y^2}}\n",
        "$$\n",
        "\n",
        "which is also very useful.\n",
        "\n",
        "For more details on Markdown please check [this](https://www.markdownguide.org/cheat-sheet/)\n",
        "\n",
        "\n",
        "We will work with Google colab in this course. However in my day to day work I use [pyenv](https://realpython.com/intro-to-pyenv/) to manage different Python environments and [Jupyter Lab](https://jupyter.org). For example, I use different virtual environments for my Natural Language Processing work, or for heavy Network Science work. Virtual environments like those created with _pyenv_ allow me to organise my Python versions and libraries, thus making the deployment of my programs easier, since my versions of Python are not \"married\" directly to the Python version that is installed in my operating system.\n",
        "\n",
        "Press SHIFT-ENTER to finish your cell and move on -- it \"executes\" the cell."
      ]
    },
    {
      "cell_type": "markdown",
      "metadata": {
        "id": "lnNw9qyOHJc9"
      },
      "source": [
        "# Python Basics\n",
        "\n",
        "## Lazy programming\n",
        "\n",
        "Python works using an approach known as *lazy programming* -- that is, we can declare variables as we instantiate them with values. This allows for very fast code prototyping. However, one thing you should keep in mind for the future is that, at some point, it will be a good idea to learn how to use strong explicit typing in your **functions** to make them run faster. We will touch on functions later, but there will be a little more detail on our next session.\n",
        "\n",
        "## White Matters\n",
        "\n",
        "Notice that, in the code below, there are no curly braces to identify a block of code. Python knows this is a block of code because we have used **indentation** as information. If you don't indent your code correctly, Python will complain, and often give you errors. Sometimes badly indented code will execute, but it may give you wrong results, specially when you have nested `for` loops for example. We will speak about `for` loops later today.\n",
        "\n",
        "## Every Variable in Python is an Object \n",
        "\n",
        "This means that every variable has _values_, but also _methods_ available to it. We will see what this means, as we practise doing things with actual code."
      ]
    },
    {
      "cell_type": "code",
      "metadata": {
        "colab": {
          "base_uri": "https://localhost:8080/"
        },
        "id": "OW6o6rZDcXI4",
        "outputId": "e8c7d1a8-e138-49e7-b628-34ec58490683"
      },
      "source": [
        "# a very simple for loop in Python\n",
        "\n",
        "for i in [1,2,3,4,5]:\n",
        "  print(i+2)"
      ],
      "execution_count": null,
      "outputs": [
        {
          "output_type": "stream",
          "text": [
            "3\n",
            "4\n",
            "5\n",
            "6\n",
            "7\n"
          ],
          "name": "stdout"
        }
      ]
    },
    {
      "cell_type": "code",
      "metadata": {
        "colab": {
          "base_uri": "https://localhost:8080/"
        },
        "id": "2MSo0ERhIWlD",
        "outputId": "bdad9466-f6fc-4600-fe8d-be404b287256"
      },
      "source": [
        "# a very simple if statement in Python\n",
        "\n",
        "x = 5\n",
        "if x < 5:\n",
        "  print('less than five')\n",
        "else:\n",
        "  print('five or more')"
      ],
      "execution_count": null,
      "outputs": [
        {
          "output_type": "stream",
          "text": [
            "five or more\n"
          ],
          "name": "stdout"
        }
      ]
    },
    {
      "cell_type": "markdown",
      "metadata": {
        "id": "0J0cCiD_c7ks"
      },
      "source": [
        "\n",
        "\n",
        "Python lets you use more white-space freedom when you are writing code inside parenteses, and square brakets.\n",
        "\n",
        "For example, if we want to initialise a matrix:"
      ]
    },
    {
      "cell_type": "code",
      "metadata": {
        "colab": {
          "base_uri": "https://localhost:8080/"
        },
        "id": "ESeu8Boxc0l4",
        "outputId": "86f9b273-e888-4d25-86c9-067c79a45ef9"
      },
      "source": [
        "# white space matters in code blocks, but not inside brackets and parentheses.\n",
        "\n",
        "m1 = [[1,2,3], [2,1,2], [3,4,1]]\n",
        "\n",
        "# is the same as \n",
        "\n",
        "m2 = [\n",
        "       [1,2,3],\n",
        "       [2,1,2],\n",
        "       [3,4,1]\n",
        "]\n",
        "\n",
        "# but the second one is more readable.\n",
        "print(m1)\n",
        "print(m2)"
      ],
      "execution_count": null,
      "outputs": [
        {
          "output_type": "stream",
          "text": [
            "[[1, 2, 3], [2, 1, 2], [3, 4, 1]]\n",
            "[[1, 2, 3], [2, 1, 2], [3, 4, 1]]\n"
          ],
          "name": "stdout"
        }
      ]
    },
    {
      "cell_type": "markdown",
      "metadata": {
        "id": "pEor5J9Ifa2m"
      },
      "source": [
        "# Python Modules\n",
        "\n",
        "A lot of what we do in Python is not natively available in the the default Python installation. Very often we need to **load modules** (by importing them into our programs or notebooks). Modules contain functionalities we want to use. For example, lets take regular expressions:"
      ]
    },
    {
      "cell_type": "code",
      "metadata": {
        "id": "es92d0IEeehT"
      },
      "source": [
        "# lets import the library for regular expressions, re\n",
        "import re"
      ],
      "execution_count": null,
      "outputs": []
    },
    {
      "cell_type": "code",
      "metadata": {
        "colab": {
          "base_uri": "https://localhost:8080/"
        },
        "id": "5ExjeG6Xezx3",
        "outputId": "13c2729b-e06a-4a99-fa28-408318dd0773"
      },
      "source": [
        "word = input('Enter a string: ')\n",
        "found = re.search(r'e.*e', word)\n",
        "if found:\n",
        "    print(word, 'contains the pattern \"e\" any number of chars and \"e\".')\n",
        "else:\n",
        "    print(word, 'does not contain the pattern.')"
      ],
      "execution_count": null,
      "outputs": [
        {
          "output_type": "stream",
          "text": [
            "Enter a string: hello willy\n",
            "hello willy contains the letter \"e\".\n"
          ],
          "name": "stdout"
        }
      ]
    },
    {
      "cell_type": "markdown",
      "metadata": {
        "id": "hZwzSrOIg7Tc"
      },
      "source": [
        "Notice that here we have used some basic constructs in Python. The control structure `if` and the `input` construct to get data from the user.\n",
        "\n",
        "## Modules, aliases and sub-modules\n",
        "\n",
        "Python allows you call imported modules with any name you wish  (alias). Once you define an alias, you must use it when calling the alised module's functionalities. "
      ]
    },
    {
      "cell_type": "code",
      "metadata": {
        "colab": {
          "base_uri": "https://localhost:8080/"
        },
        "id": "KpHGfrGsfQY4",
        "outputId": "d5c8b97f-1078-4970-c3c7-bed75e45e7d2"
      },
      "source": [
        "# using a dummy alias example to refer to the regular expressions\n",
        "# re module as maria\n",
        "import re as maria\n",
        "\n",
        "word = input('Enter a string: ')\n",
        "found = maria.search(r'e', word)\n",
        "if found:\n",
        "    print(word, 'contains the letter \"e\".')\n",
        "else:\n",
        "    print(word, 'does not contain the letter \"e\".')"
      ],
      "execution_count": null,
      "outputs": [
        {
          "output_type": "stream",
          "text": [
            "Enter a string: Using Maria instead of re\n",
            "Using Maria instead of re contains the letter \"e\".\n"
          ],
          "name": "stdout"
        }
      ]
    },
    {
      "cell_type": "markdown",
      "metadata": {
        "id": "IagxLHksihiz"
      },
      "source": [
        "### Modules and submodules \n",
        "\n",
        "Some Python modules are huge (that is they have many sub-modules and functions). It is not a very good idea to import entire modules when all you want to use is a few of their functionalities. For example, the module `collections` is relatively large, and when we import it into our code we are usually only after some specific functions. For this reason, it is highly advisable that you read the documentation of the modules you are using and import only what you really need when possible. \n",
        "\n",
        "Let's see an example from `collections`---it contains an useful  sub-module/function called `Counter` which is not native in Python. That function can tally the number of elements in a list, so that we can know how many of each unique existing element is present in the list.\n",
        "\n",
        "Let's look at how that works!"
      ]
    },
    {
      "cell_type": "code",
      "metadata": {
        "colab": {
          "base_uri": "https://localhost:8080/"
        },
        "id": "Kk-7j5FAjpiO",
        "outputId": "47ca917d-2ea1-4eb4-8e3b-6a8b7f8420a4"
      },
      "source": [
        "# here we import only a part of the collections module.\n",
        "from collections import Counter\n",
        "\n",
        "# and we will use what we imported to do a tally count\n",
        "my_list = ['hello', 'i', 'am', 'hello', 'lucy', 'i', 'mean', 'lucy', 'lucy', 'bell', 'hello', 'michael']\n",
        "tally_count = Counter(my_list)\n",
        "print(tally_count)\n",
        "\n",
        "# now we can ask tally_count how many instances of a given word are in my_list\n",
        "tally_count['hello']"
      ],
      "execution_count": null,
      "outputs": [
        {
          "output_type": "stream",
          "text": [
            "Counter({'hello': 3, 'lucy': 3, 'i': 2, 'am': 1, 'mean': 1, 'bell': 1, 'michael': 1})\n"
          ],
          "name": "stdout"
        },
        {
          "output_type": "execute_result",
          "data": {
            "text/plain": [
              "3"
            ]
          },
          "metadata": {
            "tags": []
          },
          "execution_count": 22
        }
      ]
    },
    {
      "cell_type": "code",
      "metadata": {
        "colab": {
          "base_uri": "https://localhost:8080/"
        },
        "id": "HHuF8MZIlWES",
        "outputId": "613c3436-e982-4d9a-c21b-e743a0dfaaf0"
      },
      "source": [
        "# Counter returns a response data structure that is \"proprietary\" to the module, \n",
        "# but we can conver it to one of the native Python data stuctures that \n",
        "# is very similar to a list, called dictionary and which we will discuss later.\n",
        "tally_dict = dict(tally_count)\n",
        "tally_dict"
      ],
      "execution_count": null,
      "outputs": [
        {
          "output_type": "execute_result",
          "data": {
            "text/plain": [
              "{'am': 1, 'bell': 1, 'hello': 3, 'i': 2, 'lucy': 3, 'mean': 1, 'michael': 1}"
            ]
          },
          "metadata": {
            "tags": []
          },
          "execution_count": 23
        }
      ]
    },
    {
      "cell_type": "code",
      "metadata": {
        "id": "ROw4eyMpmQiv"
      },
      "source": [
        "tally_dict['lucy']"
      ],
      "execution_count": null,
      "outputs": []
    },
    {
      "cell_type": "markdown",
      "metadata": {
        "id": "MkxSOq7Hmt_V"
      },
      "source": [
        "# Some Native Variables\n",
        "\n",
        "Consider the variable instantiations below.\n",
        "\n",
        "```python\n",
        "i = 3 # this is an integer\n",
        "j = 0.6 # this is a float\n",
        "b = True\n",
        "\n",
        "s = 'this is a string'\n",
        "l = [1,2,2,3] # this is a native python list\n",
        "t = (\"test 01\", 15)\n",
        "st = {4,5,3} # this is a native python set\n",
        "d = {'name' : 'Manuel', # this is a dictionary\n",
        "        'last name': 'Pita',\n",
        "        'occupation': 'Scientist'}\n",
        "```"
      ]
    },
    {
      "cell_type": "markdown",
      "metadata": {
        "id": "_LLAprltJOcV"
      },
      "source": [
        "While `i`, `j` and `b` are _single values_, `s`,`l`,`st` and `d` are _iterables_ (lists, tuples, sets or dictionaries). There are different ways to refer to the elements of an iterable. Often, we use the index (integer position). In Python the first element of an iterable starts at position zero.\n",
        "\n",
        "The information provided below is meant to give you access to the main methods available to the native data types in Python. Remember that everything in Python is an object, and because of of this, you have methods and sometimes extra information about your variables.\n",
        "\n",
        "### integers and floats\n",
        "\n",
        "With `int` variables what we do, for the most part, is arithmehic.\n",
        "The basic operators are `+`, `-`, `*`, `/`, `%`, and `**` (for exponent). The division operator `/` will return a `float`, if you want only the integer part of quotient of a division use `//`.\n",
        "\n",
        "When using any number representation, we are often interested in using basic arithmetic, but also more complex operations, like trigonometric functions, logarithms  and so on (which are of course also applicable to `int` as well). \n",
        "\n",
        "A lot of the numeric results we get from data analytics are floats. The native representation of floats has a ton of digits representing the fractional part of the number (after the decimal point). We often want to reduce the precision (the number of digits in the fractional part). This can be done simply by:\n",
        "\n",
        "`round(float_number, n)`\n",
        "\n",
        "where `float_number` is a variable of type `float` and `n` is the number of decimal digits you want in the rounded result.\n",
        "\n",
        "Some specific and more complex unary and binary functions are available in the `math` [module](https://docs.python.org/3/library/math.html).\n",
        "\n",
        "### Strings\n",
        "\n",
        "In general, `strings` are represented by any text enclosed in single our double quotes. The following are all valid instantiations of strings in Python\n",
        "\n",
        "` s = 'hello'`  \n",
        "` s = \"hello\"`  \n",
        "` s = \"hello, 'said' Martin\"`  \n",
        "` s = 'hello, \"said\" Martin'`   \n",
        "` s = \"hello \\\"said\\\" Martin\"`\n",
        "\n",
        "There are many things we do with strins in Python. The basic operations are (1) getting the length of a string, (2) selecting and slicing the string; (3) asking if a string `a` is contained in another string `b`; and splitting strings into lists of words.\n",
        "\n",
        "1. **Length**. To get the number of characters in a given string `s` simply call the `len(s)` method.\n",
        "2. **selecting**. Like in lists, string elements can be retrieved by indexing using square brackets, and string elements are counted from zero. For example `s[1]` returns the second character in a string `s`. \n",
        "3. **slicing**. getting a substring between a starting and ending index is done by calling `s[start:end]` where start and end are integers, both positive and smallet than `len(s)`. This will return all the characters from `start` (inclusive) to `end` (exclusive).\n",
        "4. **spliting**. We often get a string that represents a phrase, or even and entire document, and want to split it into a list of words. Calling `s.split()` will split your string using the whitespace as separator. Other ways of spliting as possible too.\n",
        "\n",
        "### Booleans\n",
        "\n",
        "Boolean variables are used for many tasks in Data Science that require the use of logical operators. The keywords `True` and `False` (case sensitive) are reserved in Python, but in Boolean operations, if you use 1 and 0 instead, they will work the same.\n",
        "\n",
        "The most common context in which we use Booleans, often without noticing, is when we do comparisons, using almost always the operator `a == b` that returns True if `a` and `b` are the same object, or `a != b` that returns True if `a` and `b` are not the same object. \n",
        "\n",
        "The basic binary high-level logical operators `and`, `or` and `not` are often used in comparisons that go beyond equality. The main low level Bit-Wise operators are `&` (and), `|` (or) and `~` (not) sometimes the minus sign can be used for Not as well.\n",
        "\n",
        "### Lists and Tuples\n",
        "\n",
        "Lists and tuples are collections of elements of any type, and in Python you can have a list where elements have different types. However, it is very uncommon to mix data types in a list, because any operation applied to the list is likely to expect inputs of a single type. Lists are mutable. This means you can add, delete, insert and replace elements. You can join two lists using the `+` operator, which when applied to a pair of lists means _concatenation_. Tuples are used when you don't want the pattern of the list to be mutable. For example, if you are working in a geographical system you may want to keep (x,y) coordinates always as (x,y).\n",
        "\n",
        "There is a lot to learn about lists, but in this course we will focus more on vectors and matrices using the Numpy module later.\n",
        "\n",
        "### Sets\n",
        "\n",
        "Sets are also iterable datatypes in Python, but there is no representation of sequence order amongst the elements. In that sense, a set is just a bag of elements, which is consistent with the mathematical meaning of a set. There are a number of set operations that allow to compute set union, intersection, set complement, and so on. However we will not study them in this introduction. One common use of sets in Data Science is finding the unique elements in a list by doing:\n",
        "\n",
        "`unique_elements = set(my_list)`\n",
        "\n",
        "where `my_list` is a python list.\n",
        "\n",
        "### Dictionaries\n",
        "\n",
        "Python dictionaries are becoming one of the most widely used data structures in Data Science. These structures are based on the idea of a \"phone-book\". You give them a _key_ (like the name of a person) and you get a _value_ back (in this case the phone number). So, a dictionary is a collection of key-value pairs, and in Python we define it as follows:\n",
        "\n",
        "`my_dict = {key1 : value1, key2 : value2, ..., keyn : valuen}`\n",
        "\n",
        "keys in a Python dictionary have to be _unique_ and _immutable_."
      ]
    },
    {
      "cell_type": "code",
      "metadata": {
        "colab": {
          "base_uri": "https://localhost:8080/"
        },
        "id": "e1qf-lXLniS9",
        "outputId": "ab1b36da-9b7a-47d1-8af6-51461530c32a"
      },
      "source": [
        "# Let us look at some basic arithetic operations on numbers\n",
        "\n",
        "i = 3 # this is an integer\n",
        "j = 0.6 # this is a float\n",
        "\n",
        "\n",
        "k1 =  j + i #adding numbers is simple\n",
        "print('adding i plus j yields', k1) \n",
        "\n",
        "\n",
        "k2 = i**2 # this is the value of i, squared\n",
        "print('i squared is ', k2)\n",
        "\n",
        "\n",
        "k3 =  18 // 5  # integer part of the division\n",
        "print('the integer part of the quotient between 18 and 5 is ', k3)\n",
        "\n",
        "\n",
        "# For more complex math functions we have to import math\n",
        "import math\n",
        "\n",
        "\n",
        "k4 =  math.sqrt(i) # here we are asking for the square root of i which is i = 3\n",
        "print('the square root of i is ', k4)\n",
        "\n",
        "\n",
        "k5 =  math.log2(18) # here the log base 2 of 18\n",
        "print('the logarithm base two of eighteen is ', k5)\n",
        "\n",
        "\n",
        "\n"
      ],
      "execution_count": null,
      "outputs": [
        {
          "output_type": "stream",
          "text": [
            "adding i plus j yields 3.6\n",
            "i squared is  9\n",
            "the integer part of the quotient between 18 and 5 is  3\n",
            "the square root of i is  1.7320508075688772\n",
            "the logarithm base two of eighteen is  4.169925001442312\n"
          ],
          "name": "stdout"
        }
      ]
    },
    {
      "cell_type": "code",
      "metadata": {
        "colab": {
          "base_uri": "https://localhost:8080/",
          "height": 88
        },
        "id": "-20uO0gwFjrS",
        "outputId": "21842dd5-4091-419a-a929-a781294da5df"
      },
      "source": [
        "# Let's look at string basics in this cell\n",
        "\n",
        "s = 'this is a string'\n",
        "\n",
        "# string element by index\n",
        "print('the first element of s is', s[0])\n",
        "\n",
        "# sting slice by indexing [start:end]\n",
        "print('the first four chars in s are:', s[0:4])\n",
        "\n",
        "# spliting a string\n",
        "print('if I split s by white char I get', s.split())\n",
        "\n",
        "# concatenating two strings\n",
        "phrase = \"hello \" + \"how are you\"\n",
        "phrase\n",
        "\n",
        "\n"
      ],
      "execution_count": null,
      "outputs": [
        {
          "output_type": "stream",
          "text": [
            "the first element of s is t\n",
            "the first four chars in s are: this\n",
            "if I split s by white char I get ['this', 'is', 'a', 'string']\n"
          ],
          "name": "stdout"
        },
        {
          "output_type": "execute_result",
          "data": {
            "application/vnd.google.colaboratory.intrinsic+json": {
              "type": "string"
            },
            "text/plain": [
              "'hello how are you'"
            ]
          },
          "metadata": {
            "tags": []
          },
          "execution_count": 3
        }
      ]
    },
    {
      "cell_type": "code",
      "metadata": {
        "colab": {
          "base_uri": "https://localhost:8080/"
        },
        "id": "tzWQ0pVYHLod",
        "outputId": "35a84ac6-749c-4345-f564-633ae1a1c62c"
      },
      "source": [
        "# Let's look at some examples of using Booleans\n",
        "\n",
        "# Comparison test: True for equality\n",
        "print('testing 3 == 3 yields', 3 == 3)\n",
        "\n",
        "# Comparison test: True for inequality\n",
        "print('testing 3 != 4 yields', 3 != 4)\n",
        "\n",
        "# logical operators\n",
        "\n",
        "p = True\n",
        "q = False\n",
        "\n",
        "print('the and test for p and q yields: ' , p and q)\n",
        "\n",
        "print('the or test for p and q yields: ' , p or q)\n",
        "\n",
        "print('p and not q yields: ' , p and not q)\n"
      ],
      "execution_count": null,
      "outputs": [
        {
          "output_type": "stream",
          "text": [
            "testing 3 == 3 yields True\n",
            "testing 3 != 4 yields True\n",
            " the and test for p and q yields:  False\n",
            " the or test for p and q yields:  True\n",
            " p and not q yields:  True\n"
          ],
          "name": "stdout"
        }
      ]
    },
    {
      "cell_type": "code",
      "metadata": {
        "colab": {
          "base_uri": "https://localhost:8080/"
        },
        "id": "S0-qB7MwH1DZ",
        "outputId": "b60617be-7ba2-4e7a-8a13-cb7ed3ec45a9"
      },
      "source": [
        "# Let's look at some examples of lists, tuples and sets\n",
        "\n",
        "# this is a native Python list\n",
        "l = ['a','b','c','a','d']\n",
        "\n",
        "# we can append an element to the list\n",
        "l.append('e')\n",
        "\n",
        "print('after appending element \"e\" our list becomes: ', l)\n",
        "\n",
        "# we can find the first occurence of element\n",
        "pos = l.index('a')\n",
        "\n",
        "print('the element \"a\" is first located in position ', pos, 'counting from the start')\n",
        "\n",
        "# but also from a given index \n",
        "pos = l.index('a', 2)\n",
        "\n",
        "print('the element \"a\" is first located in position ', pos, 'counting from the 3rd position')\n",
        "\n",
        "\n",
        "# the plus operator concatenates lists\n",
        "l = l + ['f', 'g', 'h']\n",
        "\n",
        "print('concatenating l and [f,g,h] using \"+\" yields:', l)\n",
        "\n",
        "# this is a native tuple, remember tuples are immutable\n",
        "t = (\"test\", 8)\n",
        "print('the variable t is the tuple', t)\n",
        "\n",
        "\n",
        "# this is a native set, remember order and indexing is not relevant in sets\n",
        "st = {4,5,3} # this is a native python set\n",
        "\n",
        "# let us use set to get the unique elements in our list \"l\"\n",
        "print('the original list l has', l, 'the unique elements are', set(l))\n",
        "print(set(l))\n"
      ],
      "execution_count": null,
      "outputs": [
        {
          "output_type": "stream",
          "text": [
            "after appending element \"e\" our list becomes:  ['a', 'b', 'c', 'a', 'd', 'e']\n",
            "the element \"a\" is first located in position  0 counting from the start\n",
            "the element \"a\" is first located in position  3 counting from the 3rd position\n",
            "concatenating l and [f,g,h] using \"+\" yields: ['a', 'b', 'c', 'a', 'd', 'e', 'f', 'g', 'h']\n",
            "the varibale t is the tuple ('test', 8)\n",
            "the original list l has ['a', 'b', 'c', 'a', 'd', 'e', 'f', 'g', 'h'] the unique elements are {'a', 'e', 'b', 'h', 'g', 'c', 'd', 'f'}\n",
            "{'a', 'e', 'b', 'h', 'g', 'c', 'd', 'f'}\n"
          ],
          "name": "stdout"
        }
      ]
    },
    {
      "cell_type": "code",
      "metadata": {
        "colab": {
          "base_uri": "https://localhost:8080/"
        },
        "id": "MpYJieOu0qSM",
        "outputId": "7d7e6118-06b0-49ef-d403-7275ab98daa9"
      },
      "source": [
        "# Let's look at some examples of dictionaries\n",
        "\n",
        "my_dict = {\n",
        "    'helen' : 16,\n",
        "    'lucy' : 15,\n",
        "    'matt' : 16,\n",
        "    'lucas' : 14,\n",
        "    'mary': 15\n",
        "\n",
        "}\n",
        "\n",
        "# what is the score obtained by Lucas?\n",
        "print(\"Lucas' score is:\", my_dict['lucas'])\n",
        "\n",
        "# What are the keys in my dictionary?\n",
        "print('my dictionary has the following keys', my_dict.keys())\n",
        "\n",
        "# What are the possible values present in my dictionary?\n",
        "print('my dictionary has the following values', my_dict.values())\n",
        "\n",
        "# dictionaries can be nested\n",
        "my_dict2 ={\n",
        "    'helen' : {'math': 16, 'biology':13},\n",
        "    'lucy' : {'math': 15, 'biology':17},\n",
        "    'mary' : {'math': 14, 'biology':18}\n",
        "  \n",
        "}\n",
        "\n",
        "print(\"Mary's score in math is given by: \", my_dict2['mary']['math'])"
      ],
      "execution_count": null,
      "outputs": [
        {
          "output_type": "stream",
          "text": [
            "Lucas' score is: 14\n",
            "my dictionary has the following keys dict_keys(['helen', 'lucy', 'matt', 'lucas', 'mary'])\n",
            "my dictionary has the following values dict_values([16, 15, 16, 14, 15])\n",
            "Mary's score in math is given by:  14\n"
          ],
          "name": "stdout"
        }
      ]
    },
    {
      "cell_type": "markdown",
      "metadata": {
        "id": "eKTMHjBsKwJ6"
      },
      "source": [
        "# Basic Control Structures \n",
        "\n"
      ]
    },
    {
      "cell_type": "markdown",
      "metadata": {
        "id": "HHot-9LlZAH_"
      },
      "source": [
        "## The `for` Loop\n",
        "\n",
        "Below we use a `for` loop to iterate over the members of a dummy variable I created, `my_list` and inside the `for` loop (notice I have indented) I add another control structure, in this case an `if` statement."
      ]
    },
    {
      "cell_type": "code",
      "metadata": {
        "id": "ZjE8R4ARK3sn"
      },
      "source": [
        "my_list = ['this', 'is', 'a', 'list', 'of', 'strings']\n",
        "\n",
        "# A pythonic for loop would be like this\n",
        "\n",
        "res = []\n",
        "for item in my_list:\n",
        "  if len(item) > 2:\n",
        "    res.append(item)\n"
      ],
      "execution_count": null,
      "outputs": []
    },
    {
      "cell_type": "code",
      "metadata": {
        "colab": {
          "base_uri": "https://localhost:8080/"
        },
        "id": "073PwxaTLODX",
        "outputId": "e37b7bab-33a0-41dd-a61a-578873cf19a1"
      },
      "source": [
        "res"
      ],
      "execution_count": null,
      "outputs": [
        {
          "output_type": "execute_result",
          "data": {
            "text/plain": [
              "['this', 'list', 'strings']"
            ]
          },
          "metadata": {
            "tags": []
          },
          "execution_count": 9
        }
      ]
    },
    {
      "cell_type": "markdown",
      "metadata": {
        "id": "XhZCIbIPLnPb"
      },
      "source": [
        "I can write a for loop in a more traiditional way, like this:"
      ]
    },
    {
      "cell_type": "code",
      "metadata": {
        "id": "6f53ZXoTLPHd"
      },
      "source": [
        "my_list = ['this', 'is', 'a', 'list', 'of', 'strings']\n",
        "res = []\n",
        "\n",
        "# a more traditional, less pythonic way would be\n",
        "\n",
        "for i in range(0, len(my_list)):\n",
        "  if len(my_list[i]) > 2:\n",
        "    res.append(my_list[i])\n",
        "\n"
      ],
      "execution_count": null,
      "outputs": []
    },
    {
      "cell_type": "code",
      "metadata": {
        "colab": {
          "base_uri": "https://localhost:8080/"
        },
        "id": "niwEnIqdL4l0",
        "outputId": "9c69b489-d639-4f9a-ac14-5c7d602d5085"
      },
      "source": [
        "res"
      ],
      "execution_count": null,
      "outputs": [
        {
          "output_type": "execute_result",
          "data": {
            "text/plain": [
              "['this', 'list', 'strings']"
            ]
          },
          "metadata": {
            "tags": []
          },
          "execution_count": 12
        }
      ]
    },
    {
      "cell_type": "code",
      "metadata": {
        "colab": {
          "base_uri": "https://localhost:8080/"
        },
        "id": "E9aX_9HXhyIj",
        "outputId": "ab9788aa-9798-4a80-cddf-09ed4cfe2fa2"
      },
      "source": [
        "# and this would be *super* pythonic\n",
        "my_list = ['this', 'is', 'a', 'list', 'of', 'strings']\n",
        "res = [item for item in my_list if len(item) > 2] # list comprehension\n",
        "res"
      ],
      "execution_count": null,
      "outputs": [
        {
          "output_type": "execute_result",
          "data": {
            "text/plain": [
              "['this', 'list', 'strings']"
            ]
          },
          "metadata": {
            "tags": []
          },
          "execution_count": 13
        }
      ]
    },
    {
      "cell_type": "markdown",
      "metadata": {
        "id": "B_atbLhxNbUJ"
      },
      "source": [
        "### Ranges\n",
        "\n",
        "The `range` construct in Python is very widely used. It simply instantiates a list of integers from a number to another, both of which are often passed as parameters:"
      ]
    },
    {
      "cell_type": "code",
      "metadata": {
        "colab": {
          "base_uri": "https://localhost:8080/"
        },
        "id": "J_GM_HKqNWHT",
        "outputId": "713aac27-81dd-4137-c7fc-db88a2f6fe5d"
      },
      "source": [
        "my_range = range(5)\n",
        "my_range"
      ],
      "execution_count": null,
      "outputs": [
        {
          "output_type": "execute_result",
          "data": {
            "text/plain": [
              "range(0, 5)"
            ]
          },
          "metadata": {
            "tags": []
          },
          "execution_count": 16
        }
      ]
    },
    {
      "cell_type": "markdown",
      "metadata": {
        "id": "uZlER3PvNvDO"
      },
      "source": [
        "the range object is in its essence a list, but optimised to allow its use in iterating over the elements of a list. We can put it in list form:"
      ]
    },
    {
      "cell_type": "code",
      "metadata": {
        "colab": {
          "base_uri": "https://localhost:8080/"
        },
        "id": "0Tto85BLNsAA",
        "outputId": "0ed8ddd8-34b0-4566-a8b3-8277285e96d2"
      },
      "source": [
        "list(my_range)"
      ],
      "execution_count": null,
      "outputs": [
        {
          "output_type": "execute_result",
          "data": {
            "text/plain": [
              "[0, 1, 2, 3, 4]"
            ]
          },
          "metadata": {
            "tags": []
          },
          "execution_count": 15
        }
      ]
    },
    {
      "cell_type": "markdown",
      "metadata": {
        "id": "avPeVr4QN7He"
      },
      "source": [
        "Notice something interesting, the zero is included, but the five is excluded from the list. This is to ensure the consistency in how we count things in Python, starting with zero. In general, any range interval represented in Python is inclusive of the first element, but exclusive of the last."
      ]
    },
    {
      "cell_type": "markdown",
      "metadata": {
        "id": "I8SpokmkO0qP"
      },
      "source": [
        "## The `if` Statement \n",
        "\n",
        "The `if` statment performs a block of instructions once granted that a given test evaluates to TRUE. When it does not, the default operation is not to do anything. We can specify an `else` block, and as many intermediate conditions using `elif`. Remember that indentation matters."
      ]
    },
    {
      "cell_type": "code",
      "metadata": {
        "colab": {
          "base_uri": "https://localhost:8080/"
        },
        "id": "KVKkgIJfN64j",
        "outputId": "2be1769e-e0fa-4e40-9ef8-bde205635cef"
      },
      "source": [
        "# the code below exits when it finds that a given word has either x, y or z, tested in that order. \n",
        "# there is a scape route for the case in which neither these letters is in the word\n",
        "word = 'pyramidal'\n",
        "\n",
        "if 'x' in word:\n",
        "  print('word has an x')\n",
        "elif 'y' in word:\n",
        "  print('word has a y')\n",
        "elif 'z' in word:\n",
        "  print('word has a z')\n",
        "else:\n",
        "  print('word does not have any of the last three letters')"
      ],
      "execution_count": null,
      "outputs": [
        {
          "output_type": "stream",
          "text": [
            "word has a y\n"
          ],
          "name": "stdout"
        }
      ]
    },
    {
      "cell_type": "markdown",
      "metadata": {
        "id": "CXxllIyIP9o9"
      },
      "source": [
        "How would we test for the presence of the three letters?"
      ]
    },
    {
      "cell_type": "code",
      "metadata": {
        "colab": {
          "base_uri": "https://localhost:8080/"
        },
        "id": "QV_IwfMAN5n-",
        "outputId": "5fe145c2-0c8c-4470-87b9-6d2e83683c1b"
      },
      "source": [
        "word = 'pyramidal'\n",
        "\n",
        "if 'x' in word:\n",
        "  print('word has an x')\n",
        "else:\n",
        "  print('no x in the word')\n",
        "if 'y' in word:\n",
        "  print('word has an y')\n",
        "else:\n",
        "  print('no y in the word')\n",
        "if 'z' in word:\n",
        "  print('word has an z')\n",
        "else:\n",
        "  print('no z in the word')"
      ],
      "execution_count": null,
      "outputs": [
        {
          "output_type": "stream",
          "text": [
            "no x in the word\n",
            "word has an y\n",
            "no z in the word\n"
          ],
          "name": "stdout"
        }
      ]
    },
    {
      "cell_type": "markdown",
      "metadata": {
        "id": "8jR3jmzpRcvd"
      },
      "source": [
        "The code above is ugly code. As you learn more Python, you should be able to write this sort of code in a much more elegant and readable way!\n",
        "\n",
        "## The `while` statement \n",
        "\n",
        "We use while statements to repeat computations while some condition is true. While loops stop when their condition is no longer met."
      ]
    },
    {
      "cell_type": "code",
      "metadata": {
        "colab": {
          "base_uri": "https://localhost:8080/"
        },
        "id": "OTJLnXg7QQ8T",
        "outputId": "e6e24e19-a9e7-4d17-8637-401615f29fc3"
      },
      "source": [
        "i = 10\n",
        "while i > 0:\n",
        "  print(\"repeating\", i)\n",
        "  i -= 1"
      ],
      "execution_count": null,
      "outputs": [
        {
          "output_type": "stream",
          "text": [
            "repeating 10\n",
            "repeating 9\n",
            "repeating 8\n",
            "repeating 7\n",
            "repeating 6\n",
            "repeating 5\n",
            "repeating 4\n",
            "repeating 3\n",
            "repeating 2\n",
            "repeating 1\n"
          ],
          "name": "stdout"
        }
      ]
    },
    {
      "cell_type": "markdown",
      "metadata": {
        "id": "v2utzPzKX-S1"
      },
      "source": [
        "### Unit increments and decrements\n",
        "\n",
        "One of the things we do a lot as programmers is to increment (or decrement a variable by a single unit). Usually all we do is \n",
        "\n",
        "`i = i+1`\n",
        "\n",
        "In Python we simplify this by using a shortcut:\n",
        "\n",
        "`i += 1` to increment\n",
        "`i -= 1` to decrement"
      ]
    },
    {
      "cell_type": "code",
      "metadata": {
        "colab": {
          "base_uri": "https://localhost:8080/"
        },
        "id": "cAKReW5bUflh",
        "outputId": "900db4ac-e962-4e48-ad43-e9e1499e71e8"
      },
      "source": [
        "while True:\n",
        "  a = input(\"\\nEnter an integer between 0 and 5: \")\n",
        "\n",
        "  if not a.isdigit():\n",
        "    print(\"not right\")\n",
        "    continue\n",
        "  elif (int(a) < 0) or (int(a) > 5):\n",
        "    print('not right') \n",
        "  else:\n",
        "    break\n",
        "print(\"Thank you\")"
      ],
      "execution_count": null,
      "outputs": [
        {
          "output_type": "stream",
          "text": [
            "\n",
            "Enter an integer between 0 and 5: 8\n",
            "not right\n",
            "\n",
            "Enter an integer between 0 and 5: 5\n",
            "Thank you\n"
          ],
          "name": "stdout"
        }
      ]
    },
    {
      "cell_type": "markdown",
      "metadata": {
        "id": "PywD-NR8VpHg"
      },
      "source": [
        "# Functions\n",
        "\n",
        "Functions are essential in the Python philosophy. Most people who do data science with Python believe in the importance of keeping functions as _minimal conceptual units_, by divising them as unbreakable blocks---like atoms. In contrast, many software engineers write procedures that may implement long sequences of heterogeneous steps and computations to achieve a given goal, and this is not necessarily frowned upon. However, bringing that mindset to thinking about functions in Python is not a good idea.  The main reason for thinking in conceptually atomic functions in Python is that we want to be able to plug (reuse) these functions in many different analytics **pipelines**. Data science in Python is all about pipelines. With regards to functions in Python we,\n",
        "\n",
        "1. **Define them** with zero or more parameters\n",
        "2. **Call them** to get zero or more results\n",
        "\n",
        "The most empty function you can define with a body is the following.\n",
        "\n",
        "```python\n",
        "def do_nothing():  \n",
        "  pass\n",
        "```  \n",
        "Notice the keyword `def`, the name of the function (which must always begin with a letter) and that we must use parenteses. Inside the parentheses we may define the parameters needed by the function. Notice that the function definition line ends with a colon (:) and that it has an indented body.\n",
        "\n",
        "## Arguments\n",
        "\n",
        "```python\n",
        "def echo(word):  \n",
        "  print(word + ' ', + word)\n",
        "```  \n",
        "\n",
        "Use only argument names in lazy programming, and use typed arguments when you want your code to execute more efficiently. Typing your parameters is easy, for example:\n",
        "\n",
        "```python\n",
        "def echo(word:string):  \n",
        "  print(word + ' ', + word)\n",
        "```  \n",
        "**A word of caution:** if you type your parameters, you are enforcing that the parameters passed are of that type. If they are not your program with throw an error.\n",
        "\n",
        "**Another note:** when we speak about the variables that are passed to a function in Python we refer to them as the function _arguments_. But inside the function the actual values the function is working with are referred to as _parameters_.\n",
        "\n",
        "### Positional and keyword argument passing\n",
        "\n",
        "Usually, arguments in Python functions are passed in a positional manner. This means that Python expects to see the arguments come in correspondance with the order in which they were defined. So, if you write a function that takes the arguments `day`, `month` and `year`, defined in that order, it would not be too difficult to get a wrong function call, where you may have swapped day and month. To avoid these problems, you can call your function passing explicit argument names and assigning them values. In the following example:\n",
        "\n",
        "```python\n",
        "def parse_date(day, month, year):\n",
        "  return 'the date is ' + str(m) + ', ' + str(d) + ' ' + str(y)\n",
        "```\n",
        "\n",
        "you can call:\n",
        "\n",
        "```python\n",
        "parse_date(year=1985, month='August', day=28)\n",
        "```\n",
        "\n",
        "## Default parameter values\n",
        "\n",
        "You can specify default values for parameters.\n",
        "The default value is used if the caller did not provide one or more arguments. In the function definition below, we will assume that if the function caller does not pass a year, it is because it is implicit that is the current year.\n",
        "\n",
        "```python\n",
        "def parse_date(day, month, year=2021):\n",
        "  return 'the date is ' + str(m) + ', ' + str(d) + ' ' + str(y)\n",
        "```\n",
        "\n",
        "\n",
        "## Return\n",
        "\n",
        "Our functions above are very limited. All they do is to print something and come back empty handed. Very often functions are conceived to take some arguments and return a value. Once we have computed that value we use the keyword `return` at the end of the function to bring a value back to whatever called the function. For example:\n",
        "\n",
        "```python\n",
        "def fancy_math(a:int,b:int,c:int):\n",
        "  result = (a**2 + b) / (b**2 - c)\n",
        "  return result\n",
        "```\n",
        "\n",
        "## A short exercise.\n",
        "\n",
        "Write a function `guess_the_veg` that received an argument `colour`. If the we pass red, the function will return _tomato!_; if we pass green the function will return _spinach!_ and otherwise it will print: _i don't know_ and return -1."
      ]
    },
    {
      "cell_type": "code",
      "metadata": {
        "id": "0T-qbgFH5nUg"
      },
      "source": [
        "# Add your function to this cell. The cells below may help you.\n",
        "\n",
        "\n"
      ],
      "execution_count": null,
      "outputs": []
    },
    {
      "cell_type": "code",
      "metadata": {
        "colab": {
          "base_uri": "https://localhost:8080/"
        },
        "id": "8Lpb1_qVRFbO",
        "outputId": "5ee725bc-f00c-4b0b-e3b4-db5de8162294"
      },
      "source": [
        "# lets define a single function called echo, that prints is argument twice\n",
        "\n",
        "\n",
        "def echo(word):  \n",
        "  print(word, ' ', word)\n",
        "\n",
        "echo(2)\n",
        "\n",
        "# try out what happens when we define the function's only argument to be \n",
        "# of type string (str)\n",
        "\n",
        "def string_echo(word:str):\n",
        "  print(word + ' ' + word)\n",
        "\n",
        "string_echo('hey')"
      ],
      "execution_count": null,
      "outputs": [
        {
          "output_type": "stream",
          "text": [
            "2   2\n",
            "hey hey\n"
          ],
          "name": "stdout"
        }
      ]
    },
    {
      "cell_type": "code",
      "metadata": {
        "id": "STQIFeQMVns4"
      },
      "source": [
        "# lets define a single function called extract_letter, \n",
        "# that removes a letter from a word\n",
        "\n",
        "\n",
        "def extract_letter(word, ltr):\n",
        "  aux = []\n",
        "  for c in word:\n",
        "    if c != ltr:\n",
        "      aux.append(c)\n",
        "  return \"\".join(aux)\n",
        "\n"
      ],
      "execution_count": null,
      "outputs": []
    },
    {
      "cell_type": "code",
      "metadata": {
        "colab": {
          "base_uri": "https://localhost:8080/",
          "height": 37
        },
        "id": "XMi5WbegWeD8",
        "outputId": "39045126-6893-47c5-94ec-57805691df2a"
      },
      "source": [
        "# Functions expect that either you pass the arguments in order\n",
        "# or that you use the argument names as keywords\n",
        "\n",
        "def parse_date(day, month, year):\n",
        "  return 'the date is ' + str(month) + ', ' + str(day) + ' ' + str(year)\n",
        "\n",
        "parse_date(month='september', day=10, year=1993)"
      ],
      "execution_count": null,
      "outputs": [
        {
          "output_type": "execute_result",
          "data": {
            "application/vnd.google.colaboratory.intrinsic+json": {
              "type": "string"
            },
            "text/plain": [
              "'the date is september, 10 1993'"
            ]
          },
          "metadata": {
            "tags": []
          },
          "execution_count": 1
        }
      ]
    },
    {
      "cell_type": "code",
      "metadata": {
        "id": "NwfqI0UZWhG4"
      },
      "source": [
        "# an alternative definition of extract_letter \n",
        "\n",
        "def extract_letter2(word, ltr):\n",
        "  # strings are like lists\n",
        "  s = \"\"\n",
        "  for c in word:\n",
        "    if c != ltr:\n",
        "      s += c\n",
        "  return s"
      ],
      "execution_count": null,
      "outputs": []
    },
    {
      "cell_type": "code",
      "metadata": {
        "colab": {
          "base_uri": "https://localhost:8080/",
          "height": 37
        },
        "id": "RnVGWYTaXK3q",
        "outputId": "52e5487a-1ba5-4021-d98b-388642a39082"
      },
      "source": [
        "extract_letter2('hello', 'o')"
      ],
      "execution_count": null,
      "outputs": [
        {
          "output_type": "execute_result",
          "data": {
            "application/vnd.google.colaboratory.intrinsic+json": {
              "type": "string"
            },
            "text/plain": [
              "'hell'"
            ]
          },
          "metadata": {
            "tags": []
          },
          "execution_count": 5
        }
      ]
    },
    {
      "cell_type": "code",
      "metadata": {
        "id": "b0om-KycXN_f"
      },
      "source": [
        "# and yet another alternative definition of extract_letter \n",
        "\n",
        "def extract_letter3(word, ltr):\n",
        "  # this is a list comprehension\n",
        "  return ''.join([ c for c in word if c != ltr])"
      ],
      "execution_count": null,
      "outputs": []
    },
    {
      "cell_type": "code",
      "metadata": {
        "colab": {
          "base_uri": "https://localhost:8080/",
          "height": 37
        },
        "id": "GoIY_RUxXffe",
        "outputId": "b5705b65-2b7e-4992-a3d4-595cb08abfb3"
      },
      "source": [
        "extract_letter3('hello', 'o')"
      ],
      "execution_count": null,
      "outputs": [
        {
          "output_type": "execute_result",
          "data": {
            "application/vnd.google.colaboratory.intrinsic+json": {
              "type": "string"
            },
            "text/plain": [
              "'hell'"
            ]
          },
          "metadata": {
            "tags": []
          },
          "execution_count": 7
        }
      ]
    },
    {
      "cell_type": "code",
      "metadata": {
        "colab": {
          "base_uri": "https://localhost:8080/"
        },
        "id": "V_t6r36tXiaO",
        "outputId": "11c51a87-033a-42b1-a5c0-493e9c642d6b"
      },
      "source": [
        "# just a little more info on the relationship between strings and lists\n",
        "\n",
        "print(\"-\".join(['a','b', 'c']))\n",
        "print(\"\".join(['a','b', 'c']))"
      ],
      "execution_count": null,
      "outputs": [
        {
          "output_type": "stream",
          "text": [
            "a-b-c\n",
            "abc\n"
          ],
          "name": "stdout"
        }
      ]
    },
    {
      "cell_type": "code",
      "metadata": {
        "id": "3udemrFWRgW6"
      },
      "source": [
        ""
      ],
      "execution_count": null,
      "outputs": []
    }
  ]
}