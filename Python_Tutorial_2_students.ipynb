{
  "nbformat": 4,
  "nbformat_minor": 0,
  "metadata": {
    "colab": {
      "name": "Python_Tutorial_2_students.ipynb",
      "provenance": [],
      "collapsed_sections": [],
      "toc_visible": true
    },
    "kernelspec": {
      "name": "python3",
      "display_name": "Python 3"
    }
  },
  "cells": [
    {
      "cell_type": "markdown",
      "metadata": {
        "id": "CLTldup4laHF"
      },
      "source": [
        "# Tutorial 2\n",
        "\n",
        "## Numpy\n",
        "\n",
        "### Pergunta 1\n",
        "\n",
        "1. Use a função `arange` de numpy para criar um vetor chamado `my_array` com a sequencia de números desde zero até 24.\n",
        "\n",
        "2. Use a função `reshape` para redimensionar o vetor de tal forma que fique com seis filas e cinco colunas. Que acontece? Qual é a relação entre número de elementos e a dimensão duma matrix bi-dimensional?\n",
        "\n",
        "3. Sendo que temos 24 elementos, identifique duas combinações de dimensões que permitam redimensionar este vector em forma de matriz."
      ]
    },
    {
      "cell_type": "code",
      "metadata": {
        "colab": {
          "base_uri": "https://localhost:8080/"
        },
        "id": "HpUE2CrVk-sU",
        "outputId": "26461d09-1cdd-486b-99dd-04e48af18d7b"
      },
      "source": [
        "import numpy as np\n"
      ],
      "execution_count": null,
      "outputs": [
        {
          "output_type": "execute_result",
          "data": {
            "text/plain": [
              "array([[ 0,  1,  2,  3],\n",
              "       [ 4,  5,  6,  7],\n",
              "       [ 8,  9, 10, 11],\n",
              "       [12, 13, 14, 15],\n",
              "       [16, 17, 18, 19],\n",
              "       [20, 21, 22, 23]])"
            ]
          },
          "metadata": {
            "tags": []
          },
          "execution_count": 5
        }
      ]
    },
    {
      "cell_type": "markdown",
      "metadata": {
        "id": "iYtwy5uQ555a"
      },
      "source": [
        "## Pergunta 2\n",
        "\n",
        "Considere a função da similaridade de coseno com a qual trabalhamos ontem:\n",
        "\n",
        "$$\n",
        "  cos(v1, v2) = \\frac{v1 . v2}{\\lVert v1 \\rVert \\times \\lVert v2 \\rVert}\n",
        "$$  \n",
        "\n",
        "Investigar o uso das funções `linalg.norm` e `dot` dentro de Numpy para re-escrever a função sem usar qualquer `for` loop."
      ]
    },
    {
      "cell_type": "code",
      "metadata": {
        "colab": {
          "base_uri": "https://localhost:8080/"
        },
        "id": "VLFT3F816Z1l",
        "outputId": "8066be4c-ae34-42c6-b557-1c9692720545"
      },
      "source": [
        "import numpy as np\n",
        "v1 = [1,2,3,4]\n",
        "v2 = [3,2,5,4]\n",
        "\n",
        "# resposta aqui"
      ],
      "execution_count": null,
      "outputs": [
        {
          "output_type": "stream",
          "text": [
            "38\n",
            "40.24922359499622\n"
          ],
          "name": "stdout"
        },
        {
          "output_type": "execute_result",
          "data": {
            "text/plain": [
              "0.9441175904999112"
            ]
          },
          "metadata": {
            "tags": []
          },
          "execution_count": 4
        }
      ]
    },
    {
      "cell_type": "code",
      "metadata": {
        "id": "QZQY7E5B6cOW"
      },
      "source": [
        ""
      ],
      "execution_count": null,
      "outputs": []
    },
    {
      "cell_type": "markdown",
      "metadata": {
        "id": "IJU9afY2-Kui"
      },
      "source": [
        "## Pergunta 3\n",
        "\n",
        "$$\\begin{bmatrix} \n",
        "1 & 2 & 1 & 7 \\\\ \n",
        "3 & 0 & 1 & 8 \\\\ \n",
        "0 & 2 & 4 & 9 \\\\ \n",
        "2 & 2 & 5 & 5\n",
        "\\end{bmatrix}$$\n",
        "\n",
        "1. Criar esta matriz em numpy\n",
        "2. Slice a primeira coluna inteira\n",
        "3. Slice a primeira coluna mas so as filas 2 e 3\n",
        "4. Slice os quatro elementos no centro da matriz\n",
        "5. Slice a sub-matriz dos quatro elementos no canto inferior direito, sem usar o tamanho da matriz\n",
        "6. Slice a sub-matriz dos quatro elementos no canto superior direito, sem usar o tamanho da matriz\n"
      ]
    },
    {
      "cell_type": "code",
      "metadata": {
        "colab": {
          "base_uri": "https://localhost:8080/"
        },
        "id": "qx4i5gtPAbX_",
        "outputId": "deb6ca22-9e84-4cc9-d301-432dd8ad5a73"
      },
      "source": [
        "# Pergunta 3.1: criação da matriz como objeto de numpy\n",
        "\n",
        "\n",
        "# Pergunta 3.2: primeira coluna, \n",
        "# não há necessidade de saber as dimensões da matriz\n",
        "\n",
        "\n",
        "# Pergunta 3.3: slice primeira coluna mas so as filas 2 e 3\n",
        "# não há necessidade de saber as dimensões da matriz\n",
        "\n",
        "\n",
        "# Pergunta 3.4: slice os quatro elementos no centro da matriz\n",
        "# este slice usa o conhecimento do tamanho da matriz\n",
        "# no caso geral será necessário escrever uma função que determine\n",
        "# o slice\n",
        "\n",
        "\n",
        "# Pergunta 3.5: slice a sub-matriz dos quatro elementos no canto inferior \n",
        "# direito, sem usar o tamanho da matriz.\n",
        "# esta versão não cumpre o requerimento, porque conta desde o início da matriz\n",
        "# e portanto está a usar informação do tamanho da mesma para atingir o\n",
        "# objetivo\n",
        "\n",
        "\n",
        "\n",
        "# Pergunta 3.5: slice a sub-matriz dos quatro elementos no canto inferior \n",
        "# direito, sem usar o tamanho da matriz.\n",
        "# esta versão sim cumpre o requerimento, porque define o slice desde o fim\n",
        "# da matriz\n",
        "\n",
        "\n",
        "# Pergunta 3.6: slice a sub-matriz dos quatro elementos no canto inferior \n",
        "# direito, sem usar o tamanho da matriz.\n",
        "\n",
        "# esta versão usa informação do tamanho da matriz para definir a seleção\n",
        "# de colunas\n",
        "\n",
        "\n",
        "# esta versão cumpre o requerimento\n",
        "\n",
        "\n",
        "# esta versão cumpre o requerimento\n"
      ],
      "execution_count": null,
      "outputs": [
        {
          "output_type": "stream",
          "text": [
            "first column: \n",
            " [1 3 0 2] \n",
            "\n",
            "first column, rows 2 and 3: \n",
            " [3 0] \n",
            "\n",
            "centre: \n",
            " [[0 1]\n",
            " [2 4]] \n",
            "\n",
            "bottom right: \n",
            " [[4 9]\n",
            " [5 5]] \n",
            "\n",
            "top right: \n",
            " [[1 7]\n",
            " [1 8]] \n",
            "\n",
            "top right: \n",
            " [[1 7]\n",
            " [1 8]] \n",
            "\n",
            "bottom right: \n",
            " [[4 9]\n",
            " [5 5]] \n",
            "\n",
            "top right: \n",
            " [[1 7]\n",
            " [1 8]] \n",
            "\n"
          ],
          "name": "stdout"
        }
      ]
    },
    {
      "cell_type": "markdown",
      "metadata": {
        "id": "qLZeruRiAbrN"
      },
      "source": [
        "## Pergunta 4\n",
        "\n",
        "Dado o ficheiro json de teste, carregue o mesmo num Pandas dataframe, e mantenha unicamente as seguintes colunas:\n",
        "\n",
        "1. user_id\n",
        "2. institution_id\n",
        "3. age\n",
        "4. gender"
      ]
    },
    {
      "cell_type": "code",
      "metadata": {
        "colab": {
          "base_uri": "https://localhost:8080/"
        },
        "id": "TKRMSh5VK_On",
        "outputId": "b0031c60-baad-4e25-d7a2-a582aeb36b8a"
      },
      "source": [
        "from google.colab import drive\n",
        "drive.mount('/content/drive')"
      ],
      "execution_count": null,
      "outputs": [
        {
          "output_type": "stream",
          "text": [
            "Mounted at /content/drive\n"
          ],
          "name": "stdout"
        }
      ]
    },
    {
      "cell_type": "code",
      "metadata": {
        "colab": {
          "base_uri": "https://localhost:8080/",
          "height": 419
        },
        "id": "Ugd3OucnAgEi",
        "outputId": "2184d8ee-1de3-467d-ecd5-2fc7b78bb164"
      },
      "source": [
        "import pandas as pd\n",
        "\n",
        "# o vosso path para o ficheiro poderá ser diferente ao meu\n",
        "\n",
        "path = '/content/drive/MyDrive/Colab Notebooks/A2_user_details.json'\n",
        "\n"
      ],
      "execution_count": null,
      "outputs": [
        {
          "output_type": "execute_result",
          "data": {
            "text/html": [
              "<div>\n",
              "<style scoped>\n",
              "    .dataframe tbody tr th:only-of-type {\n",
              "        vertical-align: middle;\n",
              "    }\n",
              "\n",
              "    .dataframe tbody tr th {\n",
              "        vertical-align: top;\n",
              "    }\n",
              "\n",
              "    .dataframe thead th {\n",
              "        text-align: right;\n",
              "    }\n",
              "</style>\n",
              "<table border=\"1\" class=\"dataframe\">\n",
              "  <thead>\n",
              "    <tr style=\"text-align: right;\">\n",
              "      <th></th>\n",
              "      <th>user_id</th>\n",
              "      <th>institution_id</th>\n",
              "      <th>age</th>\n",
              "      <th>gender</th>\n",
              "    </tr>\n",
              "  </thead>\n",
              "  <tbody>\n",
              "    <tr>\n",
              "      <th>0</th>\n",
              "      <td>1128</td>\n",
              "      <td>9</td>\n",
              "      <td>18</td>\n",
              "      <td>MALE</td>\n",
              "    </tr>\n",
              "    <tr>\n",
              "      <th>1</th>\n",
              "      <td>1050</td>\n",
              "      <td>7</td>\n",
              "      <td>16</td>\n",
              "      <td>FEMALE</td>\n",
              "    </tr>\n",
              "    <tr>\n",
              "      <th>2</th>\n",
              "      <td>986</td>\n",
              "      <td>1</td>\n",
              "      <td>17</td>\n",
              "      <td>FEMALE</td>\n",
              "    </tr>\n",
              "    <tr>\n",
              "      <th>3</th>\n",
              "      <td>987</td>\n",
              "      <td>1</td>\n",
              "      <td>16</td>\n",
              "      <td>FEMALE</td>\n",
              "    </tr>\n",
              "    <tr>\n",
              "      <th>4</th>\n",
              "      <td>988</td>\n",
              "      <td>1</td>\n",
              "      <td>16</td>\n",
              "      <td>FEMALE</td>\n",
              "    </tr>\n",
              "    <tr>\n",
              "      <th>...</th>\n",
              "      <td>...</td>\n",
              "      <td>...</td>\n",
              "      <td>...</td>\n",
              "      <td>...</td>\n",
              "    </tr>\n",
              "    <tr>\n",
              "      <th>93</th>\n",
              "      <td>1841</td>\n",
              "      <td>2</td>\n",
              "      <td>17</td>\n",
              "      <td>FEMALE</td>\n",
              "    </tr>\n",
              "    <tr>\n",
              "      <th>94</th>\n",
              "      <td>1855</td>\n",
              "      <td>2</td>\n",
              "      <td>17</td>\n",
              "      <td>FEMALE</td>\n",
              "    </tr>\n",
              "    <tr>\n",
              "      <th>95</th>\n",
              "      <td>1096</td>\n",
              "      <td>7</td>\n",
              "      <td>20</td>\n",
              "      <td>MALE</td>\n",
              "    </tr>\n",
              "    <tr>\n",
              "      <th>96</th>\n",
              "      <td>1878</td>\n",
              "      <td>2</td>\n",
              "      <td>17</td>\n",
              "      <td>MALE</td>\n",
              "    </tr>\n",
              "    <tr>\n",
              "      <th>97</th>\n",
              "      <td>2875</td>\n",
              "      <td>4</td>\n",
              "      <td>16</td>\n",
              "      <td>FEMALE</td>\n",
              "    </tr>\n",
              "  </tbody>\n",
              "</table>\n",
              "<p>98 rows × 4 columns</p>\n",
              "</div>"
            ],
            "text/plain": [
              "    user_id  institution_id  age  gender\n",
              "0      1128               9   18    MALE\n",
              "1      1050               7   16  FEMALE\n",
              "2       986               1   17  FEMALE\n",
              "3       987               1   16  FEMALE\n",
              "4       988               1   16  FEMALE\n",
              "..      ...             ...  ...     ...\n",
              "93     1841               2   17  FEMALE\n",
              "94     1855               2   17  FEMALE\n",
              "95     1096               7   20    MALE\n",
              "96     1878               2   17    MALE\n",
              "97     2875               4   16  FEMALE\n",
              "\n",
              "[98 rows x 4 columns]"
            ]
          },
          "metadata": {
            "tags": []
          },
          "execution_count": 3
        }
      ]
    },
    {
      "cell_type": "markdown",
      "metadata": {
        "id": "UiCY5VwuB5Xo"
      },
      "source": [
        "## Pergunta 5\n",
        "\n",
        "### P5.1\n",
        "Selecione os `user_id` das raparigas com idade 17 anos ou mais e guarde numa variáevel `fids`. Esta variável, é um `Series` ou um `DataFrame`\n",
        "\n",
        "### P5.2\n",
        "Selecione os `gender` dos estudantes das escolas 1 e 2 com maiores de 17 anos\n",
        "\n",
        "### p5.3\n",
        "Adicione uma columa \"scores\" com valores aleatórios entre 10 e 20 para todos os alunos no dataframe"
      ]
    },
    {
      "cell_type": "code",
      "metadata": {
        "colab": {
          "base_uri": "https://localhost:8080/"
        },
        "id": "jmr5-T78CM0J",
        "outputId": "a3c949c1-060a-4ddb-c3dd-b2d58127f054"
      },
      "source": [
        "\n",
        "# P5.1\n"
      ],
      "execution_count": null,
      "outputs": [
        {
          "output_type": "execute_result",
          "data": {
            "text/plain": [
              "2      986\n",
              "6      990\n",
              "8      992\n",
              "17    1005\n",
              "19    1007\n",
              "23    1112\n",
              "26    1032\n",
              "28    1151\n",
              "29    1839\n",
              "30    1035\n",
              "36    3080\n",
              "37    1047\n",
              "38    1048\n",
              "39    3107\n",
              "44    3114\n",
              "45    1077\n",
              "52    1842\n",
              "54    1861\n",
              "75    1131\n",
              "77    1115\n",
              "93    1841\n",
              "94    1855\n",
              "Name: user_id, dtype: int64"
            ]
          },
          "metadata": {
            "tags": []
          },
          "execution_count": 22
        }
      ]
    },
    {
      "cell_type": "code",
      "metadata": {
        "colab": {
          "base_uri": "https://localhost:8080/"
        },
        "id": "ed-t2372Kfly",
        "outputId": "35baf16d-c9bf-444a-f202-2c706a2b7a52"
      },
      "source": [
        "# P5.2\n"
      ],
      "execution_count": null,
      "outputs": [
        {
          "output_type": "execute_result",
          "data": {
            "text/plain": [
              "count         22\n",
              "unique         3\n",
              "top       FEMALE\n",
              "freq          16\n",
              "Name: gender, dtype: object"
            ]
          },
          "metadata": {
            "tags": []
          },
          "execution_count": 15
        }
      ]
    },
    {
      "cell_type": "code",
      "metadata": {
        "colab": {
          "base_uri": "https://localhost:8080/",
          "height": 541
        },
        "id": "LQqbUWe1ORTK",
        "outputId": "fccc4627-342c-4eda-badb-e0854a0d6622"
      },
      "source": [
        "#P5.3\n"
      ],
      "execution_count": null,
      "outputs": [
        {
          "output_type": "stream",
          "text": [
            "/usr/local/lib/python3.6/dist-packages/ipykernel_launcher.py:3: SettingWithCopyWarning: \n",
            "A value is trying to be set on a copy of a slice from a DataFrame.\n",
            "Try using .loc[row_indexer,col_indexer] = value instead\n",
            "\n",
            "See the caveats in the documentation: https://pandas.pydata.org/pandas-docs/stable/user_guide/indexing.html#returning-a-view-versus-a-copy\n",
            "  This is separate from the ipykernel package so we can avoid doing imports until\n"
          ],
          "name": "stderr"
        },
        {
          "output_type": "execute_result",
          "data": {
            "text/html": [
              "<div>\n",
              "<style scoped>\n",
              "    .dataframe tbody tr th:only-of-type {\n",
              "        vertical-align: middle;\n",
              "    }\n",
              "\n",
              "    .dataframe tbody tr th {\n",
              "        vertical-align: top;\n",
              "    }\n",
              "\n",
              "    .dataframe thead th {\n",
              "        text-align: right;\n",
              "    }\n",
              "</style>\n",
              "<table border=\"1\" class=\"dataframe\">\n",
              "  <thead>\n",
              "    <tr style=\"text-align: right;\">\n",
              "      <th></th>\n",
              "      <th>user_id</th>\n",
              "      <th>institution_id</th>\n",
              "      <th>age</th>\n",
              "      <th>gender</th>\n",
              "      <th>scores</th>\n",
              "    </tr>\n",
              "  </thead>\n",
              "  <tbody>\n",
              "    <tr>\n",
              "      <th>0</th>\n",
              "      <td>1128</td>\n",
              "      <td>9</td>\n",
              "      <td>18</td>\n",
              "      <td>MALE</td>\n",
              "      <td>14</td>\n",
              "    </tr>\n",
              "    <tr>\n",
              "      <th>1</th>\n",
              "      <td>1050</td>\n",
              "      <td>7</td>\n",
              "      <td>16</td>\n",
              "      <td>FEMALE</td>\n",
              "      <td>16</td>\n",
              "    </tr>\n",
              "    <tr>\n",
              "      <th>2</th>\n",
              "      <td>986</td>\n",
              "      <td>1</td>\n",
              "      <td>17</td>\n",
              "      <td>FEMALE</td>\n",
              "      <td>13</td>\n",
              "    </tr>\n",
              "    <tr>\n",
              "      <th>3</th>\n",
              "      <td>987</td>\n",
              "      <td>1</td>\n",
              "      <td>16</td>\n",
              "      <td>FEMALE</td>\n",
              "      <td>19</td>\n",
              "    </tr>\n",
              "    <tr>\n",
              "      <th>4</th>\n",
              "      <td>988</td>\n",
              "      <td>1</td>\n",
              "      <td>16</td>\n",
              "      <td>FEMALE</td>\n",
              "      <td>17</td>\n",
              "    </tr>\n",
              "    <tr>\n",
              "      <th>...</th>\n",
              "      <td>...</td>\n",
              "      <td>...</td>\n",
              "      <td>...</td>\n",
              "      <td>...</td>\n",
              "      <td>...</td>\n",
              "    </tr>\n",
              "    <tr>\n",
              "      <th>93</th>\n",
              "      <td>1841</td>\n",
              "      <td>2</td>\n",
              "      <td>17</td>\n",
              "      <td>FEMALE</td>\n",
              "      <td>18</td>\n",
              "    </tr>\n",
              "    <tr>\n",
              "      <th>94</th>\n",
              "      <td>1855</td>\n",
              "      <td>2</td>\n",
              "      <td>17</td>\n",
              "      <td>FEMALE</td>\n",
              "      <td>20</td>\n",
              "    </tr>\n",
              "    <tr>\n",
              "      <th>95</th>\n",
              "      <td>1096</td>\n",
              "      <td>7</td>\n",
              "      <td>20</td>\n",
              "      <td>MALE</td>\n",
              "      <td>19</td>\n",
              "    </tr>\n",
              "    <tr>\n",
              "      <th>96</th>\n",
              "      <td>1878</td>\n",
              "      <td>2</td>\n",
              "      <td>17</td>\n",
              "      <td>MALE</td>\n",
              "      <td>12</td>\n",
              "    </tr>\n",
              "    <tr>\n",
              "      <th>97</th>\n",
              "      <td>2875</td>\n",
              "      <td>4</td>\n",
              "      <td>16</td>\n",
              "      <td>FEMALE</td>\n",
              "      <td>12</td>\n",
              "    </tr>\n",
              "  </tbody>\n",
              "</table>\n",
              "<p>98 rows × 5 columns</p>\n",
              "</div>"
            ],
            "text/plain": [
              "    user_id  institution_id  age  gender  scores\n",
              "0      1128               9   18    MALE      14\n",
              "1      1050               7   16  FEMALE      16\n",
              "2       986               1   17  FEMALE      13\n",
              "3       987               1   16  FEMALE      19\n",
              "4       988               1   16  FEMALE      17\n",
              "..      ...             ...  ...     ...     ...\n",
              "93     1841               2   17  FEMALE      18\n",
              "94     1855               2   17  FEMALE      20\n",
              "95     1096               7   20    MALE      19\n",
              "96     1878               2   17    MALE      12\n",
              "97     2875               4   16  FEMALE      12\n",
              "\n",
              "[98 rows x 5 columns]"
            ]
          },
          "metadata": {
            "tags": []
          },
          "execution_count": 23
        }
      ]
    },
    {
      "cell_type": "markdown",
      "metadata": {
        "id": "KO9-KxBOC1Mc"
      },
      "source": [
        "## Pergunta 6\n",
        "\n",
        "Execute o comando\n",
        "\n",
        "```python\n",
        "dfx.describe()\n",
        "```\n",
        "e descreva o resultado e a sua utilidade, após investigar o que esta função do Pandas devolve."
      ]
    },
    {
      "cell_type": "code",
      "metadata": {
        "colab": {
          "base_uri": "https://localhost:8080/",
          "height": 297
        },
        "id": "2jnFzv8BC4FY",
        "outputId": "5e9ebf04-9e6b-4472-8ca2-def34fa195ea"
      },
      "source": [
        "dfx.describe()"
      ],
      "execution_count": null,
      "outputs": [
        {
          "output_type": "execute_result",
          "data": {
            "text/html": [
              "<div>\n",
              "<style scoped>\n",
              "    .dataframe tbody tr th:only-of-type {\n",
              "        vertical-align: middle;\n",
              "    }\n",
              "\n",
              "    .dataframe tbody tr th {\n",
              "        vertical-align: top;\n",
              "    }\n",
              "\n",
              "    .dataframe thead th {\n",
              "        text-align: right;\n",
              "    }\n",
              "</style>\n",
              "<table border=\"1\" class=\"dataframe\">\n",
              "  <thead>\n",
              "    <tr style=\"text-align: right;\">\n",
              "      <th></th>\n",
              "      <th>user_id</th>\n",
              "      <th>institution_id</th>\n",
              "      <th>age</th>\n",
              "    </tr>\n",
              "  </thead>\n",
              "  <tbody>\n",
              "    <tr>\n",
              "      <th>count</th>\n",
              "      <td>98.000000</td>\n",
              "      <td>98.000000</td>\n",
              "      <td>98.000000</td>\n",
              "    </tr>\n",
              "    <tr>\n",
              "      <th>mean</th>\n",
              "      <td>1830.428571</td>\n",
              "      <td>5.193878</td>\n",
              "      <td>16.132653</td>\n",
              "    </tr>\n",
              "    <tr>\n",
              "      <th>std</th>\n",
              "      <td>836.381443</td>\n",
              "      <td>2.775661</td>\n",
              "      <td>3.862689</td>\n",
              "    </tr>\n",
              "    <tr>\n",
              "      <th>min</th>\n",
              "      <td>986.000000</td>\n",
              "      <td>1.000000</td>\n",
              "      <td>3.000000</td>\n",
              "    </tr>\n",
              "    <tr>\n",
              "      <th>25%</th>\n",
              "      <td>1077.500000</td>\n",
              "      <td>2.000000</td>\n",
              "      <td>16.000000</td>\n",
              "    </tr>\n",
              "    <tr>\n",
              "      <th>50%</th>\n",
              "      <td>1838.500000</td>\n",
              "      <td>4.000000</td>\n",
              "      <td>16.000000</td>\n",
              "    </tr>\n",
              "    <tr>\n",
              "      <th>75%</th>\n",
              "      <td>2855.750000</td>\n",
              "      <td>7.750000</td>\n",
              "      <td>17.000000</td>\n",
              "    </tr>\n",
              "    <tr>\n",
              "      <th>max</th>\n",
              "      <td>3127.000000</td>\n",
              "      <td>9.000000</td>\n",
              "      <td>30.000000</td>\n",
              "    </tr>\n",
              "  </tbody>\n",
              "</table>\n",
              "</div>"
            ],
            "text/plain": [
              "           user_id  institution_id        age\n",
              "count    98.000000       98.000000  98.000000\n",
              "mean   1830.428571        5.193878  16.132653\n",
              "std     836.381443        2.775661   3.862689\n",
              "min     986.000000        1.000000   3.000000\n",
              "25%    1077.500000        2.000000  16.000000\n",
              "50%    1838.500000        4.000000  16.000000\n",
              "75%    2855.750000        7.750000  17.000000\n",
              "max    3127.000000        9.000000  30.000000"
            ]
          },
          "metadata": {
            "tags": []
          },
          "execution_count": 26
        }
      ]
    },
    {
      "cell_type": "markdown",
      "metadata": {
        "id": "49G_5h18IBeq"
      },
      "source": [
        ""
      ]
    },
    {
      "cell_type": "code",
      "metadata": {
        "id": "i2XkOb5nC5s9"
      },
      "source": [
        ""
      ],
      "execution_count": null,
      "outputs": []
    }
  ]
}