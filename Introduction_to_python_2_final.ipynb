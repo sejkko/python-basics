{
  "nbformat": 4,
  "nbformat_minor": 0,
  "metadata": {
    "colab": {
      "name": "Introduction-to-python-2-final.ipynb",
      "provenance": []
    },
    "kernelspec": {
      "name": "python3",
      "display_name": "Python 3"
    }
  },
  "cells": [
    {
      "cell_type": "code",
      "metadata": {
        "id": "VdXdYcMtXJJ1"
      },
      "source": [
        "import numpy as np"
      ],
      "execution_count": null,
      "outputs": []
    },
    {
      "cell_type": "markdown",
      "metadata": {
        "id": "MGcPwsJ-XPHJ"
      },
      "source": [
        "# Numpy Basics\n",
        "\n",
        "Numpy stands for **Numerical Python**. This is the module to use for intensive numerical computations, particularly processing of matrixes.\n",
        "\n",
        "The foundation of Numpy is the ndarray object that provides _vectorised_ arithmetic operations as well as _broadcasting_ capabilities. \n",
        "\n",
        "Vectorisation and broadcasting are complex topics themselves that are outside of the scope of this introductory course. For now, lets only say this: `for` loops are computationally expensive, they take a long time to run. A lot of machine learning algorithms need to apply functions to vectors. Vectorisation and broadcasting help us with methods to do things that are like for loops, but without having to write for loops.\n",
        "\n",
        "\n",
        "## Numpy arrays\n",
        "\n",
        "Creating a numpy array is simple. First, you need to make sure you have imported the Numpy module:\n",
        "\n",
        "```python\n",
        "import numpy as np\n",
        "```\n",
        "\n",
        "Then, to create an array we may simply do the following\n",
        "\n",
        "```python\n",
        "my_array = np.array([\n",
        "  [1,2,3],\n",
        "  [4,5,6],\n",
        "  [7,8,9]]\n",
        ")\n",
        "```\n",
        "\n",
        "We then have access to methods such as `my_array.shape` that will tell us the dimensions of our array (in this example this should return `(3,3)` or `my_array.dtype` that will tell us the type of the elements stored in the array.\n",
        "\n",
        "In the context of Numpy we will refer to numpy arrays simply as _arrays_ and they can be either vectors or matrices.\n",
        "\n",
        "Another common way to create arrays is by asking numpy to instantiate a vector or matrix with dimensions provided by us, and filled with zeros or ones. For example, a matrix with three rows and four columns:\n",
        "\n",
        "```python\n",
        "my_array_zeros = np.zeros((3,4))\n",
        "```\n",
        "\n",
        "While numpy is almost always used for integers and floats, it supports other data types, including Booleans, strings, complex numbers and even Python objects. \n",
        "\n",
        "## Operations between Arrays and Scalars\n",
        "\n",
        "Arrays are very different from native lists because they \"understand\" operations that involve vectors, matrices and scalars.\n",
        "\n",
        "For example, if we add 5 to an array with a numeric dtype then 5 will be added to all of its elements using vectorisation (an optimised operation that is much faster than a for loop). All arithmetic operations between an array and a scalar will work by _broascasting_ the operator and the scalar to all the elements in the array.\n"
      ]
    },
    {
      "cell_type": "code",
      "metadata": {
        "colab": {
          "base_uri": "https://localhost:8080/"
        },
        "id": "qi6r56UjXvPR",
        "outputId": "5416e245-0bd2-4e57-8ce7-e0d7cedc151a"
      },
      "source": [
        "# Creating numpy arrays\n",
        "\n",
        "import numpy as np\n",
        "\n",
        "my_array = np.array([\n",
        "  [1,2,3],\n",
        "  [4,5,6],\n",
        "  [7,8,9]]\n",
        ")\n",
        "\n",
        "print('the dimensions of my_array are:', my_array.shape)\n",
        "print('the data type of the elments in my_array is:', my_array.dtype)\n",
        "\n",
        "my_array_zeros = np.zeros((3,4))\n",
        "print(my_array_zeros)\n",
        "\n",
        "my_array_ones = np.ones((3,4))\n",
        "print(my_array_ones)\n"
      ],
      "execution_count": null,
      "outputs": [
        {
          "output_type": "stream",
          "text": [
            "the dimensions of my_array are: (3, 3)\n",
            "the data type of the elments in my_array is: int64\n",
            "[[0. 0. 0. 0.]\n",
            " [0. 0. 0. 0.]\n",
            " [0. 0. 0. 0.]]\n",
            "[[1. 1. 1. 1.]\n",
            " [1. 1. 1. 1.]\n",
            " [1. 1. 1. 1.]]\n"
          ],
          "name": "stdout"
        }
      ]
    },
    {
      "cell_type": "code",
      "metadata": {
        "colab": {
          "base_uri": "https://localhost:8080/"
        },
        "id": "7iYe3ZWJepP7",
        "outputId": "7d121707-b2c4-4932-e2b1-36409d02c017"
      },
      "source": [
        "# Vectorised operations between arrays and scalars\n",
        "# What happens if we represent a vector as a native list\n",
        "# and want to add five to each element?\n",
        "\n",
        "l = [1,2,3,4]\n",
        "try:\n",
        "  l + 5 \n",
        "except TypeError:\n",
        "  print('cannae do this. Data types are incompatible')\n",
        "\n",
        "# the only way is to write a for loop and add 5 to each element"
      ],
      "execution_count": null,
      "outputs": [
        {
          "output_type": "stream",
          "text": [
            "cannae do this. Data types are incompatible\n"
          ],
          "name": "stdout"
        }
      ]
    },
    {
      "cell_type": "code",
      "metadata": {
        "colab": {
          "base_uri": "https://localhost:8080/"
        },
        "id": "96pjApOqex4o",
        "outputId": "6c475fcd-d54d-4450-a9eb-7ea9d430d694"
      },
      "source": [
        "# Vectorised operations between arrays and scalars\n",
        "\n",
        "l = np.array([1,2,3,4])\n",
        "print('arithmetic between array and scalar broadcasts')\n",
        "l + 5"
      ],
      "execution_count": null,
      "outputs": [
        {
          "output_type": "stream",
          "text": [
            "arithmetic between array and scalar broadcasts\n"
          ],
          "name": "stdout"
        },
        {
          "output_type": "execute_result",
          "data": {
            "text/plain": [
              "array([6, 7, 8, 9])"
            ]
          },
          "metadata": {
            "tags": []
          },
          "execution_count": 8
        }
      ]
    },
    {
      "cell_type": "markdown",
      "metadata": {
        "id": "A9DkknvCXim0"
      },
      "source": [
        "## Indexing and Slicing\n",
        "\n",
        "Typically, when we select an element or slice of an array, what we are doing is to get a view on the original array. That is, when we make value assignments to selected elements or slides we are modifying the original array. We will see this in practise in a short while.\n",
        "\n",
        "### Getting single elements\n",
        "\n",
        "Getting single elements works just like it does in native lists. We use square brakets and pass on the index of the element we want to get, also starting from index zero.\n",
        "\n",
        "### Getting slices in vector arrays\n",
        "\n",
        "Given an array such as:\n",
        "\n",
        "```python\n",
        "my_array = np.array([1,2,3,4,5,6,7])\n",
        "```\n",
        "I can get the first three elements by:\n",
        "\n",
        "```python\n",
        "my_array[0:3]\n",
        "```\n",
        "As always, the first index before the : is included, and the last one excluded.\n",
        "\n",
        "### Getting slices in 2D arrays\n",
        "\n",
        "The principle is the same, but we work in two dimensions:\n",
        "\n",
        "`[from_row : to_row, from_col : to_col]`\n",
        "\n",
        "### Counting backwards \n",
        "\n",
        "Indexes in numpy arrays can be counted from the end, using negative indexes. For example, given a 1D array, we can slide the last three elements using `[-3:]`\n"
      ]
    },
    {
      "cell_type": "code",
      "metadata": {
        "colab": {
          "base_uri": "https://localhost:8080/"
        },
        "id": "lA4HAFKZXt85",
        "outputId": "53d9c337-2b16-4042-8ff1-f170d1fea1de"
      },
      "source": [
        "# 1D selecting and slicing\n",
        "\n",
        "my_array = np.array([1,2,3,4,5,6,7])\n",
        "\n",
        "# get first element\n",
        "print('first element in my array: ', my_array[0])\n",
        "\n",
        "# get first three elements\n",
        "print('first 3 elements in my array: ', my_array[0:3])\n",
        "\n",
        "# get 2nd to 4th elements\n",
        "print('second to 4th element in my array: ', my_array[1:4])\n",
        "\n",
        "# get last element, without resorting to knowing the size of the array\n",
        "print('last element in my array: ', my_array[-1])\n",
        "\n",
        "# get last 3 elements, without resorting to knowing the size of the array\n",
        "print('last three elements in my array: ', my_array[-3:])\n",
        "\n",
        "# get first 3 elements\n",
        "print('first three elements in my array: ', my_array[:3])\n",
        "\n"
      ],
      "execution_count": null,
      "outputs": [
        {
          "output_type": "stream",
          "text": [
            "first element in my array:  1\n",
            "first 3 elements in my array:  [1 2 3]\n",
            "second to 4th element in my array:  [2 3 4]\n",
            "last element in my array:  7\n",
            "last three elements in my array:  [5 6 7]\n",
            "first three elements in my array:  [1 2 3]\n",
            "[ 0.  0.  0. -1. -1. -1.  0.  0.  0.  0.]\n"
          ],
          "name": "stdout"
        }
      ]
    },
    {
      "cell_type": "code",
      "metadata": {
        "colab": {
          "base_uri": "https://localhost:8080/"
        },
        "id": "kztyB6Pv9SOf",
        "outputId": "7f301431-1de7-4357-cdc8-cf921bfcbf51"
      },
      "source": [
        "# Two-dimensional slicing\n",
        "\n",
        "my_array2 = np.array([[1,2,3,4], [5,6,7,8], [9,10,11,12], [13,14,15,16]])\n",
        "print(my_array2, '\\n')\n",
        "\n",
        "# slice 1st row\n",
        "print('first row: ', my_array2[0], '\\n')\n",
        "\n",
        "# slice 1st column\n",
        "print('first column', my_array2[:,0], '\\n')\n",
        "\n",
        "# slice 1st two rows, 1st and 2nd col\n",
        "print(my_array2[:2,:2])\n",
        "\n",
        "#slice last column, 2nd and 3rd rows\n",
        "print(my_array2[1:3, -1], '\\n')\n"
      ],
      "execution_count": null,
      "outputs": [
        {
          "output_type": "stream",
          "text": [
            "[[ 1  2  3  4]\n",
            " [ 5  6  7  8]\n",
            " [ 9 10 11 12]\n",
            " [13 14 15 16]] \n",
            "\n",
            "first row:  [1 2 3 4] \n",
            "\n",
            "first column [ 1  5  9 13] \n",
            "\n",
            "[[1 2]\n",
            " [5 6]]\n",
            "[ 8 12] \n",
            "\n"
          ],
          "name": "stdout"
        }
      ]
    },
    {
      "cell_type": "code",
      "metadata": {
        "colab": {
          "base_uri": "https://localhost:8080/"
        },
        "id": "gZXovF1R9ys_",
        "outputId": "e0dcc9bd-467f-4859-ab12-9bec1ca50ee2"
      },
      "source": [
        "my_array2[:,2]"
      ],
      "execution_count": null,
      "outputs": [
        {
          "output_type": "execute_result",
          "data": {
            "text/plain": [
              "array([ 3,  7, 11, 15])"
            ]
          },
          "metadata": {
            "tags": []
          },
          "execution_count": 25
        }
      ]
    },
    {
      "cell_type": "markdown",
      "metadata": {
        "id": "PaUNOKEPlRIP"
      },
      "source": [
        "\n",
        "## Boolean Indexing\n",
        "\n",
        "Suppose you have what is called a _rectangular_ data structure, which is a matrix where rows correspond to subjects and columns correspond to variables measured on those subjects. We may want  to select a slice of subjects, for example those of a given gender, if the subjects are people. Assuming there is a list of the genders of all the subjects, defined in the same order as they appear as rows in the matrix, we can easily produce a Boolean vector, where, for example we assign True to females. If we pass that Boolean vector inside the selector of an array -- that is the square brakets -- numpy will pick those rows for with the corresponding element in the selector is true. We can combine this with other forms of slicing. The general form of the selector is:\n",
        "\n",
        "```python\n",
        "array[ array_of_booleans ]\n",
        "```\n",
        "\n",
        "Where the size of the `array_of_booleans` must correspond to the number of files in the `array`.\n",
        "\n",
        "## Fancy Indexing\n",
        "\n",
        "This type of selection is similar to the Boolean case, but here we use double square brackets to define a list of row index positions we want to slice our of our numpy array. The general form is as follows:\n",
        "\n",
        "```python\n",
        "array[[ list_of_row_indexes ]] \n",
        "```\n",
        "\n",
        "## Making assignments on slices (broadcasting)\n",
        "\n",
        "Whenever and in whichever form we slice an array, if we make an assignment using `=` the assignment will be _broadcast_ to the entire slice."
      ]
    },
    {
      "cell_type": "code",
      "metadata": {
        "colab": {
          "base_uri": "https://localhost:8080/"
        },
        "id": "cQvjTU77EBBY",
        "outputId": "660218b3-0f23-4040-8ed8-b999b4536c9a"
      },
      "source": [
        "# lets assume we have seven subjects in our rectangular data structure\n",
        "names =   np.array(['helen', 'mary', 'lucy', 'matt', 'lindsay', 'ben', 'luke'])\n",
        "genders = np.array(['f',   'f',      'f',    'm',    'f',       'm',   'm'])\n",
        "\n",
        "# lets create a dummy matrix of integers that has seven rows (subjects) and\n",
        "# five columns (variables)\n",
        "d = np.arange(35).reshape((7,5))\n",
        "print(d, '\\n')\n",
        "\n",
        "# now lets create a Boolean version of genders where female is True\n",
        "sel_f = genders == 'f'\n",
        "print('sub matrix females: ', d[sel_f], '\\n')\n",
        "\n",
        "# lets make an assignment of the value zero to the rows that correspond to male\n",
        "sel_m = genders != 'f'\n",
        "d[sel_m] = 0\n",
        "print('after assigning males to zero we get', d, '\\n')"
      ],
      "execution_count": null,
      "outputs": [
        {
          "output_type": "stream",
          "text": [
            "[[ 0  1  2  3  4]\n",
            " [ 5  6  7  8  9]\n",
            " [10 11 12 13 14]\n",
            " [15 16 17 18 19]\n",
            " [20 21 22 23 24]\n",
            " [25 26 27 28 29]\n",
            " [30 31 32 33 34]] \n",
            "\n",
            "sub matrix females:  [[ 0  1  2  3  4]\n",
            " [ 5  6  7  8  9]\n",
            " [10 11 12 13 14]\n",
            " [20 21 22 23 24]] \n",
            "\n",
            "after assigning males to zero we get [[ 0  1  2  3  4]\n",
            " [ 5  6  7  8  9]\n",
            " [10 11 12 13 14]\n",
            " [ 0  0  0  0  0]\n",
            " [20 21 22 23 24]\n",
            " [ 0  0  0  0  0]\n",
            " [ 0  0  0  0  0]] \n",
            "\n"
          ],
          "name": "stdout"
        }
      ]
    },
    {
      "cell_type": "code",
      "metadata": {
        "colab": {
          "base_uri": "https://localhost:8080/"
        },
        "id": "Hfm0VE4CIB0j",
        "outputId": "bdeea923-547c-415a-f0de-93e64733f0dc"
      },
      "source": [
        "d[[0,2,3]]"
      ],
      "execution_count": null,
      "outputs": [
        {
          "output_type": "execute_result",
          "data": {
            "text/plain": [
              "array([[ 0,  1,  0,  3,  0],\n",
              "       [ 0, 11,  0, 13,  0],\n",
              "       [15,  0, 17,  0, 19]])"
            ]
          },
          "metadata": {
            "tags": []
          },
          "execution_count": 68
        }
      ]
    },
    {
      "cell_type": "code",
      "metadata": {
        "id": "Yv-Z3IkP9KQ7"
      },
      "source": [
        "# 1D slice assignment \n",
        "\n",
        "my_array = np.zeros(10)\n",
        "my_array[3:6] = -1\n",
        "print('assignment to slice broadcast')\n",
        "print(my_array)"
      ],
      "execution_count": null,
      "outputs": []
    },
    {
      "cell_type": "markdown",
      "metadata": {
        "id": "6n3YYz95XuVz"
      },
      "source": [
        "## Transposing\n",
        "\n",
        "For many matrix operations we need to transpose a matrix. That means exchanging rows and columns. In Numpy, given a matrix $m$ we transpose simply by:\n",
        "\n",
        "```python\n",
        "m.T\n",
        "```"
      ]
    },
    {
      "cell_type": "code",
      "metadata": {
        "colab": {
          "base_uri": "https://localhost:8080/"
        },
        "id": "fN-0ZmjoX4mg",
        "outputId": "7c3789be-3b56-46ec-e984-79cc775603a4"
      },
      "source": [
        "# lets see how transposing a matrix works\n",
        "\n",
        "my_array = np.arange(32).reshape(8,4)\n",
        "print('the original matrix is: ', '\\n', my_array, '\\n')\n",
        "\n",
        "print('the transposed matrix is: ', '\\n', my_array.T, '\\n')\n",
        "\n"
      ],
      "execution_count": null,
      "outputs": [
        {
          "output_type": "stream",
          "text": [
            "the original matrix is:  \n",
            " [[ 0  1  2  3]\n",
            " [ 4  5  6  7]\n",
            " [ 8  9 10 11]\n",
            " [12 13 14 15]\n",
            " [16 17 18 19]\n",
            " [20 21 22 23]\n",
            " [24 25 26 27]\n",
            " [28 29 30 31]] \n",
            "\n",
            "the transposed matrix is:  \n",
            " [[ 0  4  8 12 16 20 24 28]\n",
            " [ 1  5  9 13 17 21 25 29]\n",
            " [ 2  6 10 14 18 22 26 30]\n",
            " [ 3  7 11 15 19 23 27 31]] \n",
            "\n"
          ],
          "name": "stdout"
        }
      ]
    },
    {
      "cell_type": "markdown",
      "metadata": {
        "id": "OTsv0raTX5d2"
      },
      "source": [
        "## Universal Functions\n",
        "\n",
        "Universal functions are special operations that are implemented in Python to transform vectors without resorting to explicit `for` loops. These operations are vectorised, so in the low-level machine language they take advantage of optimisation techniques that make them run faster. Importantly they are available to us as simple operations.\n",
        "\n",
        "In Numpy these operations can be _unary_ that is, applying to a single vector, or _binary_ they operate on two input vectors.\n",
        "\n",
        "This is better understood with programming examples. Check the [Numpy](https://numpy.org/doc/) documentation to learn about the many available vectorised functions you can use to process your arrays,"
      ]
    },
    {
      "cell_type": "code",
      "metadata": {
        "colab": {
          "base_uri": "https://localhost:8080/"
        },
        "id": "Z9eRGgLyYBUN",
        "outputId": "b677d29d-327a-4b9d-d08b-4a7d98a00817"
      },
      "source": [
        "# Unary universal functions in Numpy\n",
        "\n",
        "my_array = np.arange(10)\n",
        "print('original array:\\n', my_array, '\\n')\n",
        "\n",
        "print('Square rootof the array:\\n', np.sqrt(my_array), '\\n\\n')\n",
        "\n",
        "print('original array:\\n', my_array, '\\n')\n",
        "\n",
        "print('the array times 4:\\n', my_array*4)"
      ],
      "execution_count": null,
      "outputs": [
        {
          "output_type": "stream",
          "text": [
            "original array:\n",
            " [0 1 2 3 4 5 6 7 8 9] \n",
            "\n",
            "Square rootof the array:\n",
            " [0.         1.         1.41421356 1.73205081 2.         2.23606798\n",
            " 2.44948974 2.64575131 2.82842712 3.        ] \n",
            "\n",
            "\n",
            "original array:\n",
            " [0 1 2 3 4 5 6 7 8 9] \n",
            "\n",
            "the array times 4:\n",
            " [ 0  4  8 12 16 20 24 28 32 36]\n"
          ],
          "name": "stdout"
        }
      ]
    },
    {
      "cell_type": "code",
      "metadata": {
        "colab": {
          "base_uri": "https://localhost:8080/"
        },
        "id": "jdX0TEBpmDCz",
        "outputId": "7c1c2cd3-d52b-435b-e50d-14827e053773"
      },
      "source": [
        "# binary universal functions\n",
        "\n",
        "x = np.random.randn(4)\n",
        "y = np.random.randn(4)\n",
        "\n",
        "print('array x has: ', x)\n",
        "print('array y has: ', y)\n",
        "\n",
        "print('the array of per-component max is ', np.maximum(x,y))"
      ],
      "execution_count": null,
      "outputs": [
        {
          "output_type": "stream",
          "text": [
            "array x has:  [-0.06680882 -1.07043159  0.41487425 -0.58325531]\n",
            "array y has:  [ 0.16322395 -0.45276835  0.31523851 -1.81854458]\n",
            "the array of per-component max is  [ 0.16322395 -0.45276835  0.41487425 -0.58325531]\n"
          ],
          "name": "stdout"
        }
      ]
    },
    {
      "cell_type": "markdown",
      "metadata": {
        "id": "VvMHMEXZYB7y"
      },
      "source": [
        "### Sorting\n",
        "\n",
        "You are likely to use Numpy during your Machine Learning lessons. For now, the last bit of information we will introduce about Numpy is sorting.\n",
        "\n",
        "For one-dimensional arrays it is very simple and non-ambiguous:\n",
        "\n",
        "```python\n",
        "my_array.sort()\n",
        "```\n",
        "\n",
        "But when our array has two dimensions or more we can tell on what axis we want the sort to work. Let's see this with examples."
      ]
    },
    {
      "cell_type": "code",
      "metadata": {
        "colab": {
          "base_uri": "https://localhost:8080/"
        },
        "id": "cYf3_9TFYbC1",
        "outputId": "f28eed83-bab6-4c12-af3f-e3760f655e66"
      },
      "source": [
        "# sorting numpy arrays\n",
        "\n",
        "my_array = np.random.randn(6)\n",
        "\n",
        "print('original 1D array has:', '\\n', my_array, '\\n')\n",
        "my_array.sort()\n",
        "print('sorted 1D array has:', '\\n', my_array , '\\n')\n",
        "\n",
        "my_array = np.random.randn(25).reshape(5,5)\n",
        "print('original 2D array has:', '\\n', my_array, '\\n')\n",
        "\n",
        "# use axis 0 to have sorted columns\n",
        "print('sorting columns')\n",
        "my_array.sort(0)\n",
        "print(my_array, '\\n')\n",
        "\n",
        "print('sorting rows')\n",
        "# use axis 1 to have sorted rows\n",
        "my_array.sort(1)\n",
        "my_array"
      ],
      "execution_count": null,
      "outputs": [
        {
          "output_type": "stream",
          "text": [
            "original 1D array has: \n",
            " [ 1.440268   -0.4098845  -0.18418626  0.28291348 -0.87760655  0.88570487] \n",
            "\n",
            "sorted 1D array has: \n",
            " [-0.87760655 -0.4098845  -0.18418626  0.28291348  0.88570487  1.440268  ] \n",
            "\n",
            "original 2D array has: \n",
            " [[ 0.75066187 -0.11640946 -2.12272904  0.19788095 -1.10082345]\n",
            " [ 1.46552222 -1.26842548  0.4537372   0.82273143 -1.66312068]\n",
            " [-0.89739758 -1.3573491  -0.9967238   1.04257973  0.59784321]\n",
            " [ 0.24571419 -1.907682    2.06941822  0.4371083   0.64782353]\n",
            " [ 0.13964124  0.01277631 -0.59512089  0.34343148  0.84951675]] \n",
            "\n",
            "sorting columns\n",
            "[[-0.89739758 -1.907682   -2.12272904  0.19788095 -1.66312068]\n",
            " [ 0.13964124 -1.3573491  -0.9967238   0.34343148 -1.10082345]\n",
            " [ 0.24571419 -1.26842548 -0.59512089  0.4371083   0.59784321]\n",
            " [ 0.75066187 -0.11640946  0.4537372   0.82273143  0.64782353]\n",
            " [ 1.46552222  0.01277631  2.06941822  1.04257973  0.84951675]] \n",
            "\n",
            "sorting rows\n"
          ],
          "name": "stdout"
        },
        {
          "output_type": "execute_result",
          "data": {
            "text/plain": [
              "array([[-2.12272904, -1.907682  , -1.66312068, -0.89739758,  0.19788095],\n",
              "       [-1.3573491 , -1.10082345, -0.9967238 ,  0.13964124,  0.34343148],\n",
              "       [-1.26842548, -0.59512089,  0.24571419,  0.4371083 ,  0.59784321],\n",
              "       [-0.11640946,  0.4537372 ,  0.64782353,  0.75066187,  0.82273143],\n",
              "       [ 0.01277631,  0.84951675,  1.04257973,  1.46552222,  2.06941822]])"
            ]
          },
          "metadata": {
            "tags": []
          },
          "execution_count": 39
        }
      ]
    },
    {
      "cell_type": "markdown",
      "metadata": {
        "id": "ZaDya26oYbaW"
      },
      "source": [
        "## Saving and Loading Numpy files"
      ]
    },
    {
      "cell_type": "code",
      "metadata": {
        "id": "54SvPP2eYggV"
      },
      "source": [
        ""
      ],
      "execution_count": null,
      "outputs": []
    },
    {
      "cell_type": "markdown",
      "metadata": {
        "id": "4lsdwR2zYgyS"
      },
      "source": [
        "# Pandas Basics\n",
        "\n",
        "Pandas is built on top of Numpy, but extends it in many ways. One of these is the use of naming conventions for rows and columns that originate in native dictionaries. But perhaps the most insteresting feature of Pandas is that in includes many methods to perform exploratory and statistical analytics directly on the core Pandas data type, the **DataFrame**. \n",
        "\n",
        "## Series\n",
        "\n",
        "A series is a one dimensional structure that is just like a Numpy array with the difference that it also stores information about the index of each row, which by default is initalised as integer numbers.\n",
        "\n",
        "```python\n",
        "sx = Series([1,4,-9,0])\n",
        "```\n",
        "\n",
        "We will see shortly how we can manipulate the index part of a series can call the rows of our series array with any name we like.\n",
        "\n",
        "\n",
        "\n",
        "\n"
      ]
    },
    {
      "cell_type": "code",
      "metadata": {
        "colab": {
          "base_uri": "https://localhost:8080/"
        },
        "id": "AJMdlMgZYtWl",
        "outputId": "9ec519ff-4e90-43fc-90fe-fc6dd74aaae1"
      },
      "source": [
        "# from numpy to series\n",
        "import pandas as pd\n",
        "\n",
        "sx = pd.Series([1,4,-9,-3])\n",
        "print('my first pandas series', sx, '\\n')\n",
        "\n",
        "# on a series object I can get the underlying numpy values\n",
        "print('a series has an underlying numpy array:')\n",
        "print(sx.values, '\\n')\n",
        "\n",
        "print('and an added index')\n",
        "print(sx.index, '\\n')\n",
        "\n",
        "print('I can redefine the index:')\n",
        "sx.index = ['a', 'b', 'c', 'd']\n",
        "print(sx, '\\n')\n",
        "\n",
        "print('dictionary style indexing, no problem')\n",
        "print(sx['c'], '\\n')\n",
        "\n",
        "print('Boolean indexing, no problem')\n",
        "print(sx[[True, False, False, True]], '\\n')\n",
        "\n",
        "print('Fancy indexing, no problem')\n",
        "print(sx[['a','c']], '\\n')\n",
        "\n",
        "print('check for index in Series, no problem')\n",
        "'a' in sx"
      ],
      "execution_count": null,
      "outputs": [
        {
          "output_type": "stream",
          "text": [
            "my first pandas series 0    1\n",
            "1    4\n",
            "2   -9\n",
            "3   -3\n",
            "dtype: int64 \n",
            "\n",
            "a series has an underlying numpy array:\n",
            "[ 1  4 -9 -3] \n",
            "\n",
            "and an added index\n",
            "RangeIndex(start=0, stop=4, step=1) \n",
            "\n",
            "I can redefine the index:\n",
            "a    1\n",
            "b    4\n",
            "c   -9\n",
            "d   -3\n",
            "dtype: int64 \n",
            "\n",
            "dictionary style indexing, no problem\n",
            "-9 \n",
            "\n",
            "Boolean indexing, no problem\n",
            "a    1\n",
            "d   -3\n",
            "dtype: int64 \n",
            "\n",
            "Fancy indexing, no problem\n",
            "a    1\n",
            "c   -9\n",
            "dtype: int64 \n",
            "\n"
          ],
          "name": "stdout"
        },
        {
          "output_type": "execute_result",
          "data": {
            "text/plain": [
              "True"
            ]
          },
          "metadata": {
            "tags": []
          },
          "execution_count": 16
        }
      ]
    },
    {
      "cell_type": "markdown",
      "metadata": {
        "id": "Kq0eva0wRAeg"
      },
      "source": [
        "indeed if you hava a native Python dictionary, it can be cast directly as a Pandas series:"
      ]
    },
    {
      "cell_type": "code",
      "metadata": {
        "colab": {
          "base_uri": "https://localhost:8080/"
        },
        "id": "u2xtOZXeRQYX",
        "outputId": "8f2b4f9e-7b55-4236-fd27-a60b9c0697d8"
      },
      "source": [
        "my_dict = {'Lisboa': 12000, 'Porto': 14000, 'Faro': 1800, 'Aveiro': 8000}\n",
        "\n",
        "my_series = pd.Series(my_dict)\n",
        "my_series"
      ],
      "execution_count": null,
      "outputs": [
        {
          "output_type": "execute_result",
          "data": {
            "text/plain": [
              "Lisboa    12000\n",
              "Porto     14000\n",
              "Faro       1800\n",
              "Aveiro     8000\n",
              "dtype: int64"
            ]
          },
          "metadata": {
            "tags": []
          },
          "execution_count": 17
        }
      ]
    },
    {
      "cell_type": "markdown",
      "metadata": {
        "id": "TG5X0LD9N0oP"
      },
      "source": [
        "## DataFrame\n",
        "\n",
        "We can safely think of a dataframe as a collection of series that:\n",
        "\n",
        "1. Share the dame index\n",
        "2. Each series has a name, that becomes the column name of the dataframe\n",
        "3. Each such series has its own datatype, not all series in a dataframe need to be of the same dtype\n",
        "\n"
      ]
    },
    {
      "cell_type": "code",
      "metadata": {
        "colab": {
          "base_uri": "https://localhost:8080/",
          "height": 204
        },
        "id": "1HHL36LqSj-U",
        "outputId": "36855d7c-44a0-4df6-ccaa-e9282758361e"
      },
      "source": [
        "import pandas as pd\n",
        "data = {'region': ['murcia', 'murcia', 'murcia', 'valencia', 'valencia'],\n",
        "        'year': [2000,2001,2002,2001,2002],\n",
        "        'pop': [370, 382, 386, 740, 766]}\n",
        "\n",
        "df = pd.DataFrame(data)\n",
        "df"
      ],
      "execution_count": 3,
      "outputs": [
        {
          "output_type": "execute_result",
          "data": {
            "text/html": [
              "<div>\n",
              "<style scoped>\n",
              "    .dataframe tbody tr th:only-of-type {\n",
              "        vertical-align: middle;\n",
              "    }\n",
              "\n",
              "    .dataframe tbody tr th {\n",
              "        vertical-align: top;\n",
              "    }\n",
              "\n",
              "    .dataframe thead th {\n",
              "        text-align: right;\n",
              "    }\n",
              "</style>\n",
              "<table border=\"1\" class=\"dataframe\">\n",
              "  <thead>\n",
              "    <tr style=\"text-align: right;\">\n",
              "      <th></th>\n",
              "      <th>region</th>\n",
              "      <th>year</th>\n",
              "      <th>pop</th>\n",
              "    </tr>\n",
              "  </thead>\n",
              "  <tbody>\n",
              "    <tr>\n",
              "      <th>0</th>\n",
              "      <td>murcia</td>\n",
              "      <td>2000</td>\n",
              "      <td>370</td>\n",
              "    </tr>\n",
              "    <tr>\n",
              "      <th>1</th>\n",
              "      <td>murcia</td>\n",
              "      <td>2001</td>\n",
              "      <td>382</td>\n",
              "    </tr>\n",
              "    <tr>\n",
              "      <th>2</th>\n",
              "      <td>murcia</td>\n",
              "      <td>2002</td>\n",
              "      <td>386</td>\n",
              "    </tr>\n",
              "    <tr>\n",
              "      <th>3</th>\n",
              "      <td>valencia</td>\n",
              "      <td>2001</td>\n",
              "      <td>740</td>\n",
              "    </tr>\n",
              "    <tr>\n",
              "      <th>4</th>\n",
              "      <td>valencia</td>\n",
              "      <td>2002</td>\n",
              "      <td>766</td>\n",
              "    </tr>\n",
              "  </tbody>\n",
              "</table>\n",
              "</div>"
            ],
            "text/plain": [
              "     region  year  pop\n",
              "0    murcia  2000  370\n",
              "1    murcia  2001  382\n",
              "2    murcia  2002  386\n",
              "3  valencia  2001  740\n",
              "4  valencia  2002  766"
            ]
          },
          "metadata": {
            "tags": []
          },
          "execution_count": 3
        }
      ]
    },
    {
      "cell_type": "code",
      "metadata": {
        "colab": {
          "base_uri": "https://localhost:8080/",
          "height": 204
        },
        "id": "rf3QrP6D3Qw5",
        "outputId": "fefde19a-63c4-468d-cd3d-0c4e361e7d3c"
      },
      "source": [
        "# in this case, because we are passing a dictionary Pandas assumes we want \n",
        "# everything from it, but we could have specified just a part of our dict\n",
        "\n",
        "dfx = pd.DataFrame(data, columns=['region', 'year'])\n",
        "dfx"
      ],
      "execution_count": 4,
      "outputs": [
        {
          "output_type": "execute_result",
          "data": {
            "text/html": [
              "<div>\n",
              "<style scoped>\n",
              "    .dataframe tbody tr th:only-of-type {\n",
              "        vertical-align: middle;\n",
              "    }\n",
              "\n",
              "    .dataframe tbody tr th {\n",
              "        vertical-align: top;\n",
              "    }\n",
              "\n",
              "    .dataframe thead th {\n",
              "        text-align: right;\n",
              "    }\n",
              "</style>\n",
              "<table border=\"1\" class=\"dataframe\">\n",
              "  <thead>\n",
              "    <tr style=\"text-align: right;\">\n",
              "      <th></th>\n",
              "      <th>region</th>\n",
              "      <th>year</th>\n",
              "    </tr>\n",
              "  </thead>\n",
              "  <tbody>\n",
              "    <tr>\n",
              "      <th>0</th>\n",
              "      <td>murcia</td>\n",
              "      <td>2000</td>\n",
              "    </tr>\n",
              "    <tr>\n",
              "      <th>1</th>\n",
              "      <td>murcia</td>\n",
              "      <td>2001</td>\n",
              "    </tr>\n",
              "    <tr>\n",
              "      <th>2</th>\n",
              "      <td>murcia</td>\n",
              "      <td>2002</td>\n",
              "    </tr>\n",
              "    <tr>\n",
              "      <th>3</th>\n",
              "      <td>valencia</td>\n",
              "      <td>2001</td>\n",
              "    </tr>\n",
              "    <tr>\n",
              "      <th>4</th>\n",
              "      <td>valencia</td>\n",
              "      <td>2002</td>\n",
              "    </tr>\n",
              "  </tbody>\n",
              "</table>\n",
              "</div>"
            ],
            "text/plain": [
              "     region  year\n",
              "0    murcia  2000\n",
              "1    murcia  2001\n",
              "2    murcia  2002\n",
              "3  valencia  2001\n",
              "4  valencia  2002"
            ]
          },
          "metadata": {
            "tags": []
          },
          "execution_count": 4
        }
      ]
    },
    {
      "cell_type": "code",
      "metadata": {
        "colab": {
          "base_uri": "https://localhost:8080/",
          "height": 204
        },
        "id": "UuvzGTRQ3VF9",
        "outputId": "3d7a1a54-5076-47cc-f945-744b203a9980"
      },
      "source": [
        "# or even add a column we don't have values for yet\n",
        "df = pd.DataFrame(data, columns=['region', 'year', 'debt'])\n",
        "df\n"
      ],
      "execution_count": 5,
      "outputs": [
        {
          "output_type": "execute_result",
          "data": {
            "text/html": [
              "<div>\n",
              "<style scoped>\n",
              "    .dataframe tbody tr th:only-of-type {\n",
              "        vertical-align: middle;\n",
              "    }\n",
              "\n",
              "    .dataframe tbody tr th {\n",
              "        vertical-align: top;\n",
              "    }\n",
              "\n",
              "    .dataframe thead th {\n",
              "        text-align: right;\n",
              "    }\n",
              "</style>\n",
              "<table border=\"1\" class=\"dataframe\">\n",
              "  <thead>\n",
              "    <tr style=\"text-align: right;\">\n",
              "      <th></th>\n",
              "      <th>region</th>\n",
              "      <th>year</th>\n",
              "      <th>debt</th>\n",
              "    </tr>\n",
              "  </thead>\n",
              "  <tbody>\n",
              "    <tr>\n",
              "      <th>0</th>\n",
              "      <td>murcia</td>\n",
              "      <td>2000</td>\n",
              "      <td>NaN</td>\n",
              "    </tr>\n",
              "    <tr>\n",
              "      <th>1</th>\n",
              "      <td>murcia</td>\n",
              "      <td>2001</td>\n",
              "      <td>NaN</td>\n",
              "    </tr>\n",
              "    <tr>\n",
              "      <th>2</th>\n",
              "      <td>murcia</td>\n",
              "      <td>2002</td>\n",
              "      <td>NaN</td>\n",
              "    </tr>\n",
              "    <tr>\n",
              "      <th>3</th>\n",
              "      <td>valencia</td>\n",
              "      <td>2001</td>\n",
              "      <td>NaN</td>\n",
              "    </tr>\n",
              "    <tr>\n",
              "      <th>4</th>\n",
              "      <td>valencia</td>\n",
              "      <td>2002</td>\n",
              "      <td>NaN</td>\n",
              "    </tr>\n",
              "  </tbody>\n",
              "</table>\n",
              "</div>"
            ],
            "text/plain": [
              "     region  year debt\n",
              "0    murcia  2000  NaN\n",
              "1    murcia  2001  NaN\n",
              "2    murcia  2002  NaN\n",
              "3  valencia  2001  NaN\n",
              "4  valencia  2002  NaN"
            ]
          },
          "metadata": {
            "tags": []
          },
          "execution_count": 5
        }
      ]
    },
    {
      "cell_type": "code",
      "metadata": {
        "colab": {
          "base_uri": "https://localhost:8080/"
        },
        "id": "sajoKxlbV3hw",
        "outputId": "63f5fbd2-65fc-46ed-bd32-f69a7ca4ac7e"
      },
      "source": [
        "# getting rows by their index position using iloc\n",
        "\n",
        "df.iloc[1]"
      ],
      "execution_count": 6,
      "outputs": [
        {
          "output_type": "execute_result",
          "data": {
            "text/plain": [
              "region    murcia\n",
              "year        2001\n",
              "debt         NaN\n",
              "Name: 1, dtype: object"
            ]
          },
          "metadata": {
            "tags": []
          },
          "execution_count": 6
        }
      ]
    },
    {
      "cell_type": "code",
      "metadata": {
        "colab": {
          "base_uri": "https://localhost:8080/",
          "height": 235
        },
        "id": "XfO_tsKDz8wx",
        "outputId": "32676c15-dc6f-455e-dfb9-24bbb5e43537"
      },
      "source": [
        "# how to append a new row to a Pandas dataframe?\n",
        "\n",
        "new_row = {'region': 'valencia', 'year':2000, 'pop':736}\n",
        "df.append(new_row, ignore_index = True)"
      ],
      "execution_count": 7,
      "outputs": [
        {
          "output_type": "execute_result",
          "data": {
            "text/html": [
              "<div>\n",
              "<style scoped>\n",
              "    .dataframe tbody tr th:only-of-type {\n",
              "        vertical-align: middle;\n",
              "    }\n",
              "\n",
              "    .dataframe tbody tr th {\n",
              "        vertical-align: top;\n",
              "    }\n",
              "\n",
              "    .dataframe thead th {\n",
              "        text-align: right;\n",
              "    }\n",
              "</style>\n",
              "<table border=\"1\" class=\"dataframe\">\n",
              "  <thead>\n",
              "    <tr style=\"text-align: right;\">\n",
              "      <th></th>\n",
              "      <th>region</th>\n",
              "      <th>year</th>\n",
              "      <th>debt</th>\n",
              "      <th>pop</th>\n",
              "    </tr>\n",
              "  </thead>\n",
              "  <tbody>\n",
              "    <tr>\n",
              "      <th>0</th>\n",
              "      <td>murcia</td>\n",
              "      <td>2000</td>\n",
              "      <td>NaN</td>\n",
              "      <td>NaN</td>\n",
              "    </tr>\n",
              "    <tr>\n",
              "      <th>1</th>\n",
              "      <td>murcia</td>\n",
              "      <td>2001</td>\n",
              "      <td>NaN</td>\n",
              "      <td>NaN</td>\n",
              "    </tr>\n",
              "    <tr>\n",
              "      <th>2</th>\n",
              "      <td>murcia</td>\n",
              "      <td>2002</td>\n",
              "      <td>NaN</td>\n",
              "      <td>NaN</td>\n",
              "    </tr>\n",
              "    <tr>\n",
              "      <th>3</th>\n",
              "      <td>valencia</td>\n",
              "      <td>2001</td>\n",
              "      <td>NaN</td>\n",
              "      <td>NaN</td>\n",
              "    </tr>\n",
              "    <tr>\n",
              "      <th>4</th>\n",
              "      <td>valencia</td>\n",
              "      <td>2002</td>\n",
              "      <td>NaN</td>\n",
              "      <td>NaN</td>\n",
              "    </tr>\n",
              "    <tr>\n",
              "      <th>5</th>\n",
              "      <td>valencia</td>\n",
              "      <td>2000</td>\n",
              "      <td>NaN</td>\n",
              "      <td>736.0</td>\n",
              "    </tr>\n",
              "  </tbody>\n",
              "</table>\n",
              "</div>"
            ],
            "text/plain": [
              "     region  year debt    pop\n",
              "0    murcia  2000  NaN    NaN\n",
              "1    murcia  2001  NaN    NaN\n",
              "2    murcia  2002  NaN    NaN\n",
              "3  valencia  2001  NaN    NaN\n",
              "4  valencia  2002  NaN    NaN\n",
              "5  valencia  2000  NaN  736.0"
            ]
          },
          "metadata": {
            "tags": []
          },
          "execution_count": 7
        }
      ]
    },
    {
      "cell_type": "code",
      "metadata": {
        "colab": {
          "base_uri": "https://localhost:8080/",
          "height": 204
        },
        "id": "4FQIjsHf1XvA",
        "outputId": "398ce707-0963-4c8b-8473-77702691a534"
      },
      "source": [
        "# how to add a column to a pandas dataframe\n",
        "# constant value, broadcasting\n",
        "\n",
        "df['debt'] = 0\n",
        "df"
      ],
      "execution_count": 8,
      "outputs": [
        {
          "output_type": "execute_result",
          "data": {
            "text/html": [
              "<div>\n",
              "<style scoped>\n",
              "    .dataframe tbody tr th:only-of-type {\n",
              "        vertical-align: middle;\n",
              "    }\n",
              "\n",
              "    .dataframe tbody tr th {\n",
              "        vertical-align: top;\n",
              "    }\n",
              "\n",
              "    .dataframe thead th {\n",
              "        text-align: right;\n",
              "    }\n",
              "</style>\n",
              "<table border=\"1\" class=\"dataframe\">\n",
              "  <thead>\n",
              "    <tr style=\"text-align: right;\">\n",
              "      <th></th>\n",
              "      <th>region</th>\n",
              "      <th>year</th>\n",
              "      <th>debt</th>\n",
              "    </tr>\n",
              "  </thead>\n",
              "  <tbody>\n",
              "    <tr>\n",
              "      <th>0</th>\n",
              "      <td>murcia</td>\n",
              "      <td>2000</td>\n",
              "      <td>0</td>\n",
              "    </tr>\n",
              "    <tr>\n",
              "      <th>1</th>\n",
              "      <td>murcia</td>\n",
              "      <td>2001</td>\n",
              "      <td>0</td>\n",
              "    </tr>\n",
              "    <tr>\n",
              "      <th>2</th>\n",
              "      <td>murcia</td>\n",
              "      <td>2002</td>\n",
              "      <td>0</td>\n",
              "    </tr>\n",
              "    <tr>\n",
              "      <th>3</th>\n",
              "      <td>valencia</td>\n",
              "      <td>2001</td>\n",
              "      <td>0</td>\n",
              "    </tr>\n",
              "    <tr>\n",
              "      <th>4</th>\n",
              "      <td>valencia</td>\n",
              "      <td>2002</td>\n",
              "      <td>0</td>\n",
              "    </tr>\n",
              "  </tbody>\n",
              "</table>\n",
              "</div>"
            ],
            "text/plain": [
              "     region  year  debt\n",
              "0    murcia  2000     0\n",
              "1    murcia  2001     0\n",
              "2    murcia  2002     0\n",
              "3  valencia  2001     0\n",
              "4  valencia  2002     0"
            ]
          },
          "metadata": {
            "tags": []
          },
          "execution_count": 8
        }
      ]
    },
    {
      "cell_type": "code",
      "metadata": {
        "colab": {
          "base_uri": "https://localhost:8080/",
          "height": 204
        },
        "id": "Mqd3dDx41e7v",
        "outputId": "d50f721f-e705-4d78-b006-9b5424382f04"
      },
      "source": [
        "import numpy as np\n",
        "# how to add a column to a pandas dataframe\n",
        "# automatically generated values in sequence\n",
        "\n",
        "df['debt'] = np.arange(len(df))\n",
        "df"
      ],
      "execution_count": 10,
      "outputs": [
        {
          "output_type": "execute_result",
          "data": {
            "text/html": [
              "<div>\n",
              "<style scoped>\n",
              "    .dataframe tbody tr th:only-of-type {\n",
              "        vertical-align: middle;\n",
              "    }\n",
              "\n",
              "    .dataframe tbody tr th {\n",
              "        vertical-align: top;\n",
              "    }\n",
              "\n",
              "    .dataframe thead th {\n",
              "        text-align: right;\n",
              "    }\n",
              "</style>\n",
              "<table border=\"1\" class=\"dataframe\">\n",
              "  <thead>\n",
              "    <tr style=\"text-align: right;\">\n",
              "      <th></th>\n",
              "      <th>region</th>\n",
              "      <th>year</th>\n",
              "      <th>debt</th>\n",
              "    </tr>\n",
              "  </thead>\n",
              "  <tbody>\n",
              "    <tr>\n",
              "      <th>0</th>\n",
              "      <td>murcia</td>\n",
              "      <td>2000</td>\n",
              "      <td>0</td>\n",
              "    </tr>\n",
              "    <tr>\n",
              "      <th>1</th>\n",
              "      <td>murcia</td>\n",
              "      <td>2001</td>\n",
              "      <td>1</td>\n",
              "    </tr>\n",
              "    <tr>\n",
              "      <th>2</th>\n",
              "      <td>murcia</td>\n",
              "      <td>2002</td>\n",
              "      <td>2</td>\n",
              "    </tr>\n",
              "    <tr>\n",
              "      <th>3</th>\n",
              "      <td>valencia</td>\n",
              "      <td>2001</td>\n",
              "      <td>3</td>\n",
              "    </tr>\n",
              "    <tr>\n",
              "      <th>4</th>\n",
              "      <td>valencia</td>\n",
              "      <td>2002</td>\n",
              "      <td>4</td>\n",
              "    </tr>\n",
              "  </tbody>\n",
              "</table>\n",
              "</div>"
            ],
            "text/plain": [
              "     region  year  debt\n",
              "0    murcia  2000     0\n",
              "1    murcia  2001     1\n",
              "2    murcia  2002     2\n",
              "3  valencia  2001     3\n",
              "4  valencia  2002     4"
            ]
          },
          "metadata": {
            "tags": []
          },
          "execution_count": 10
        }
      ]
    },
    {
      "cell_type": "code",
      "metadata": {
        "colab": {
          "base_uri": "https://localhost:8080/",
          "height": 204
        },
        "id": "hC9UVh7X3gyq",
        "outputId": "2773f0ef-dc29-449a-d164-a1b6d7158596"
      },
      "source": [
        "# how to add a column to a pandas dataframe\n",
        "# specific values you got from e.g. a function\n",
        "\n",
        "df['debt'] = [2.1, 2.0, 2.2, 1.5, 1.8]\n",
        "df\n"
      ],
      "execution_count": 11,
      "outputs": [
        {
          "output_type": "execute_result",
          "data": {
            "text/html": [
              "<div>\n",
              "<style scoped>\n",
              "    .dataframe tbody tr th:only-of-type {\n",
              "        vertical-align: middle;\n",
              "    }\n",
              "\n",
              "    .dataframe tbody tr th {\n",
              "        vertical-align: top;\n",
              "    }\n",
              "\n",
              "    .dataframe thead th {\n",
              "        text-align: right;\n",
              "    }\n",
              "</style>\n",
              "<table border=\"1\" class=\"dataframe\">\n",
              "  <thead>\n",
              "    <tr style=\"text-align: right;\">\n",
              "      <th></th>\n",
              "      <th>region</th>\n",
              "      <th>year</th>\n",
              "      <th>debt</th>\n",
              "    </tr>\n",
              "  </thead>\n",
              "  <tbody>\n",
              "    <tr>\n",
              "      <th>0</th>\n",
              "      <td>murcia</td>\n",
              "      <td>2000</td>\n",
              "      <td>2.1</td>\n",
              "    </tr>\n",
              "    <tr>\n",
              "      <th>1</th>\n",
              "      <td>murcia</td>\n",
              "      <td>2001</td>\n",
              "      <td>2.0</td>\n",
              "    </tr>\n",
              "    <tr>\n",
              "      <th>2</th>\n",
              "      <td>murcia</td>\n",
              "      <td>2002</td>\n",
              "      <td>2.2</td>\n",
              "    </tr>\n",
              "    <tr>\n",
              "      <th>3</th>\n",
              "      <td>valencia</td>\n",
              "      <td>2001</td>\n",
              "      <td>1.5</td>\n",
              "    </tr>\n",
              "    <tr>\n",
              "      <th>4</th>\n",
              "      <td>valencia</td>\n",
              "      <td>2002</td>\n",
              "      <td>1.8</td>\n",
              "    </tr>\n",
              "  </tbody>\n",
              "</table>\n",
              "</div>"
            ],
            "text/plain": [
              "     region  year  debt\n",
              "0    murcia  2000   2.1\n",
              "1    murcia  2001   2.0\n",
              "2    murcia  2002   2.2\n",
              "3  valencia  2001   1.5\n",
              "4  valencia  2002   1.8"
            ]
          },
          "metadata": {
            "tags": []
          },
          "execution_count": 11
        }
      ]
    },
    {
      "cell_type": "code",
      "metadata": {
        "colab": {
          "base_uri": "https://localhost:8080/",
          "height": 111
        },
        "id": "GWstjHYd11UP",
        "outputId": "ca35ee68-e8fb-4ce7-c757-15e77ddbd281"
      },
      "source": [
        "# selecting and slicing\n",
        "\n",
        "dfx = df['year'] == 2001 # Boolean slicing\n",
        "dfy = df['debt'] > 0.2 # Boolean slicing\n",
        "\n",
        "# notice that here the \"and\" does not work\n",
        "# in this contect we use the \"low level\" logical operators\n",
        "# & for and\n",
        "# | for or\n",
        "# ~ for not\n",
        "\n",
        "# also notice that when selecting and slicing gives you a single series\n",
        "# that is the dtype you get instead of a DataFrame\n",
        "\n",
        "df[dfx & dfy]"
      ],
      "execution_count": 13,
      "outputs": [
        {
          "output_type": "execute_result",
          "data": {
            "text/html": [
              "<div>\n",
              "<style scoped>\n",
              "    .dataframe tbody tr th:only-of-type {\n",
              "        vertical-align: middle;\n",
              "    }\n",
              "\n",
              "    .dataframe tbody tr th {\n",
              "        vertical-align: top;\n",
              "    }\n",
              "\n",
              "    .dataframe thead th {\n",
              "        text-align: right;\n",
              "    }\n",
              "</style>\n",
              "<table border=\"1\" class=\"dataframe\">\n",
              "  <thead>\n",
              "    <tr style=\"text-align: right;\">\n",
              "      <th></th>\n",
              "      <th>region</th>\n",
              "      <th>year</th>\n",
              "      <th>debt</th>\n",
              "    </tr>\n",
              "  </thead>\n",
              "  <tbody>\n",
              "    <tr>\n",
              "      <th>1</th>\n",
              "      <td>murcia</td>\n",
              "      <td>2001</td>\n",
              "      <td>2.0</td>\n",
              "    </tr>\n",
              "    <tr>\n",
              "      <th>3</th>\n",
              "      <td>valencia</td>\n",
              "      <td>2001</td>\n",
              "      <td>1.5</td>\n",
              "    </tr>\n",
              "  </tbody>\n",
              "</table>\n",
              "</div>"
            ],
            "text/plain": [
              "     region  year  debt\n",
              "1    murcia  2001   2.0\n",
              "3  valencia  2001   1.5"
            ]
          },
          "metadata": {
            "tags": []
          },
          "execution_count": 13
        }
      ]
    },
    {
      "cell_type": "code",
      "metadata": {
        "colab": {
          "base_uri": "https://localhost:8080/"
        },
        "id": "CGXb3flM19_n",
        "outputId": "a10655e8-c722-4d0f-ffec-f989df3213b8"
      },
      "source": [
        "df['region'].unique()"
      ],
      "execution_count": 14,
      "outputs": [
        {
          "output_type": "execute_result",
          "data": {
            "text/plain": [
              "array(['murcia', 'valencia'], dtype=object)"
            ]
          },
          "metadata": {
            "tags": []
          },
          "execution_count": 14
        }
      ]
    },
    {
      "cell_type": "code",
      "metadata": {
        "colab": {
          "base_uri": "https://localhost:8080/",
          "height": 111
        },
        "id": "GzRzj2P22M0B",
        "outputId": "84f4a9a7-ccd0-4f49-f9c0-8e55b9c6f45b"
      },
      "source": [
        "# selecting and slicing\n",
        "\n",
        "df[df['year'] == 2002]"
      ],
      "execution_count": null,
      "outputs": [
        {
          "output_type": "execute_result",
          "data": {
            "text/html": [
              "<div>\n",
              "<style scoped>\n",
              "    .dataframe tbody tr th:only-of-type {\n",
              "        vertical-align: middle;\n",
              "    }\n",
              "\n",
              "    .dataframe tbody tr th {\n",
              "        vertical-align: top;\n",
              "    }\n",
              "\n",
              "    .dataframe thead th {\n",
              "        text-align: right;\n",
              "    }\n",
              "</style>\n",
              "<table border=\"1\" class=\"dataframe\">\n",
              "  <thead>\n",
              "    <tr style=\"text-align: right;\">\n",
              "      <th></th>\n",
              "      <th>region</th>\n",
              "      <th>year</th>\n",
              "      <th>debt</th>\n",
              "    </tr>\n",
              "  </thead>\n",
              "  <tbody>\n",
              "    <tr>\n",
              "      <th>2</th>\n",
              "      <td>murcia</td>\n",
              "      <td>2002</td>\n",
              "      <td>2.2</td>\n",
              "    </tr>\n",
              "    <tr>\n",
              "      <th>4</th>\n",
              "      <td>valencia</td>\n",
              "      <td>2002</td>\n",
              "      <td>1.8</td>\n",
              "    </tr>\n",
              "  </tbody>\n",
              "</table>\n",
              "</div>"
            ],
            "text/plain": [
              "     region  year  debt\n",
              "2    murcia  2002   2.2\n",
              "4  valencia  2002   1.8"
            ]
          },
          "metadata": {
            "tags": []
          },
          "execution_count": 62
        }
      ]
    },
    {
      "cell_type": "code",
      "metadata": {
        "id": "EpPHSw384aS6"
      },
      "source": [
        ""
      ],
      "execution_count": null,
      "outputs": []
    }
  ]
}